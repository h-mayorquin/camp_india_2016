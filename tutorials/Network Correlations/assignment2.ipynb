{
 "cells": [
  {
   "cell_type": "code",
   "execution_count": null,
   "metadata": {
    "collapsed": false
   },
   "outputs": [],
   "source": [
    "import numpy as np\n",
    "import pylab as pl\n",
    "from network_correlations import *\n",
    "% matplotlib inline\n",
    "T = 50. #[s] recording time of all the spiketrains\n",
    "rate = 150"
   ]
  },
  {
   "cell_type": "code",
   "execution_count": null,
   "metadata": {
    "collapsed": false
   },
   "outputs": [],
   "source": [
    "'''\n",
    "1)  Use the function poisson_generator to  create three independent spiketrains. From \n",
    "these three create two correlated spiketrains, mimicking common input. (Use np.append or np.hstack \n",
    "to join two spiketrains together!)\n",
    "Measure the correlation coefficient of y1 and y2 for different rates of the generating \n",
    "processes. How do you have to choose the rates of x1, x2 and xcommon  to get two processes \n",
    "y1 and y2 of a given rate and correlation coefficient rho?\n",
    "'''\n",
    "\n",
    "\n",
    "def input_generator(rate,rho,T):\n",
    "    x1 = poisson_generator(rate*(1-rho),T)\n",
    "    x2 = poisson_generator(rate*(1-rho),T)\n",
    "    xcommon = poisson_generator(rate*rho,T)\n",
    "    return np.append(x1,xcommon), np.append(x2,xcommon)\n",
    "\n",
    "\n",
    "new_input = input_generator(500.,0.2,10*T)\n",
    "corr_coeff(new_input[0], new_input[1],200.,10*T)"
   ]
  },
  {
   "cell_type": "code",
   "execution_count": null,
   "metadata": {
    "collapsed": false
   },
   "outputs": [],
   "source": [
    "'''\n",
    "2)  The function simple_neuron computes the output firing spiketrain of a model neuron \n",
    "given an input spiketrain. Investigate the correlation coefficient of the output spiketrains, \n",
    "when you use y1 and y2 as inputs. Plot the correlation coefficient of the output spiketrains \n",
    "rho_out for different correlation coefficients rho_in  between y1 and y2 (keeping the mean \n",
    "input rate constant).\n",
    "'''\n",
    "\n",
    "rate=120.\n",
    "rho_in = np.arange(0.,.55,0.05)\n",
    "rho_out = np.zeros(len(rho_in))\n",
    "for i,rho in enumerate(rho_in):\n",
    "    inp = input_generator(rate,rho,T)\n",
    "    outp =(simple_neuron(inp[0],T),simple_neuron(inp[1],T))\n",
    "    rho_out[i]=corr_coeff(outp[0],outp[1],50.,T)\n",
    "\n",
    "pl.figure()\n",
    "pl.plot(rho_in,rho_out)\n",
    "pl.plot(rho_in,rho_in,'k--')\n",
    "pl.ylim([0,.5])\n"
   ]
  },
  {
   "cell_type": "code",
   "execution_count": null,
   "metadata": {
    "collapsed": false,
    "scrolled": true
   },
   "outputs": [],
   "source": [
    "'''\n",
    "3) How does this output correlation rho_out change for different input \n",
    "rates and synaptic weights Jsyn?\n",
    "'''\n",
    "T=200.\n",
    "\n",
    "rates = np.arange(50.,200.,25.)\n",
    "rho_in = 0.3\n",
    "rho_out_rates = np.zeros(len(rates))\n",
    "out_rates = np.zeros(len(rates))\n",
    "for j,rate in enumerate(rates):\n",
    "        inp = input_generator(rate,rho_in,T)\n",
    "        outp =(simple_neuron(inp[0],T),simple_neuron(inp[1],T))\n",
    "        rho_out_rates[j]=corr_coeff(outp[0],outp[1],50.,T)\n",
    "        out_rates[j] = (len(outp[0])+len(outp[1]))/(2*T)\n",
    "\n",
    "T=50.\n",
    "rate = 200.\n",
    "jsyns = np.arange(2.,6.,1.)\n",
    "rho_in = 0.3\n",
    "rho_out_j = np.zeros(len(jsyns))\n",
    "out_j = np.zeros(len(jsyns))\n",
    "for j,jsyn in enumerate(jsyns):\n",
    "        inp = input_generator(rate,rho_in,T)\n",
    "        outp =(simple_neuron(inp[0],T,Jsyn=jsyn),simple_neuron(inp[1],T,Jsyn=jsyn))\n",
    "        rho_out_j[j]=corr_coeff(outp[0],outp[1],50.,T)\n",
    "        out_j[j] = (len(outp[0])+len(outp[1]))/(2*T)\n",
    "        \n",
    "fig = pl.figure(figsize = [12,4])\n",
    "ax1 = fig.add_axes([.0,.0,.25,.8])\n",
    "\n",
    "ax1.plot(rates,rho_out_rates)\n",
    "ax1.plot(rates,rho_in*np.ones(np.size(rates)), 'k--')\n",
    "ax1.set_xlabel('input rate [Hz]')\n",
    "ax1.set_ylabel('rho')\n",
    "ax1.set_ylim([0.,0.4])\n",
    "ax1.grid()\n",
    "        \n",
    "ax2 = fig.add_axes([.33,.0,.25,.8])  \n",
    "ax2.plot(jsyns,rho_out_j)\n",
    "ax2.plot(jsyns,rho_in*np.ones(np.size(jsyns)), 'k--')\n",
    "ax2.set_xlabel('J_syn')\n",
    "ax2.set_ylabel('rho')\n",
    "ax2.set_ylim([0.,0.4])\n",
    "ax2.grid()\n",
    "\n",
    "ax3 = fig.add_axes([.66,.0,.25,.8])  \n",
    "ax3.plot(out_j, rho_out_j)\n",
    "ax3.plot(out_rates, rho_out_rates)\n",
    "ax3.set_xlabel('output rate')\n",
    "ax3.set_ylabel('rho')\n",
    "ax3.set_ylim([0.,0.3])\n",
    "ax3.grid()"
   ]
  }
 ],
 "metadata": {
  "kernelspec": {
   "display_name": "Python [Root]",
   "language": "python",
   "name": "Python [Root]"
  },
  "language_info": {
   "codemirror_mode": {
    "name": "ipython",
    "version": 2
   },
   "file_extension": ".py",
   "mimetype": "text/x-python",
   "name": "python",
   "nbconvert_exporter": "python",
   "pygments_lexer": "ipython2",
   "version": "2.7.11"
  }
 },
 "nbformat": 4,
 "nbformat_minor": 0
}
