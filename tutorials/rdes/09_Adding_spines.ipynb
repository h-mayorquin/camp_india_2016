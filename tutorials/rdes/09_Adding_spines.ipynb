{
 "cells": [
  {
   "cell_type": "code",
   "execution_count": null,
   "metadata": {
    "collapsed": false
   },
   "outputs": [],
   "source": [
    "%matplotlib inline\n",
    "import moose\n",
    "import pylab\n",
    "import rdesigneur as rd\n",
    "rdes = rd.rdesigneur(\n",
    "    chanProto = [\n",
    "        ['./chans/hd.xml'],\n",
    "        ['./chans/kap.xml'],\n",
    "        ['./chans/kad.xml'],\n",
    "        ['./chans/kdr.xml'],\n",
    "        ['./chans/na3.xml'],\n",
    "        ['./chans/nax.xml'],\n",
    "        ['./chans/CaConc.xml'],\n",
    "        ['./chans/Ca.xml']\n",
    "    ],\n",
    "    cellProto = [['./cells/h10.CNG.swc', 'elec']],\n",
    "    spineProto = [['makeActiveSpine()', 'spine']],\n",
    "    chanDistrib = [\n",
    "        [\"hd\", \"#dend#,#apical#\", \"Gbar\", \"50e-2*(1+(p*3e4))\" ],\n",
    "        [\"kdr\", \"#\", \"Gbar\", \"p < 50e-6 ? 500 : 100\" ],\n",
    "        [\"na3\", \"#soma#,#dend#,#apical#\", \"Gbar\", \"850\" ],\n",
    "        [\"nax\", \"#soma#,#axon#\", \"Gbar\", \"1250\" ],\n",
    "        [\"kap\", \"#axon#,#soma#\", \"Gbar\", \"300\" ],\n",
    "        [\"kap\", \"#dend#,#apical#\", \"Gbar\",\n",
    "            \"300*(H(100-p*1e6)) * (1+(p*1e4))\" ],\n",
    "        [\"Ca_conc\", \"#\", \"tau\", \"0.0133\" ],\n",
    "        [\"kad\", \"#soma#,#dend#,#apical#\", \"Gbar\", \"50\" ],\n",
    "        [\"Ca\", \"#\", \"Gbar\", \"50\" ]\n",
    "    ],\n",
    "    spineDistrib = [['spine', '#dend#,#apical#', '20e-6', '1e-6']],\n",
    "    stimList = [['soma', '1', '.', 'inject', '(t>0.02) * 1e-9' ]],\n",
    "    plotList = [['#', '1', '.', 'Vm', 'Membrane potential'],\n",
    "            ['#', '1', 'Ca_conc', 'Ca', 'Ca conc (uM)']],\n",
    "    moogList = [['#', '1', 'Ca_conc', 'Ca', 'Calcium conc (uM)', 0, 120],\n",
    "        ['#', '1', '.', 'Vm', 'Soma potential']]\n",
    ")\n",
    "\n",
    "rdes.buildModel()\n",
    "\n",
    "moose.reinit()\n",
    "rdes.displayMoogli( 0.001, 0.0255,0)\n"
   ]
  }
 ],
 "metadata": {
  "kernelspec": {
   "display_name": "Python 2",
   "language": "python",
   "name": "python2"
  },
  "language_info": {
   "codemirror_mode": {
    "name": "ipython",
    "version": 2
   },
   "file_extension": ".py",
   "mimetype": "text/x-python",
   "name": "python",
   "nbconvert_exporter": "python",
   "pygments_lexer": "ipython2",
   "version": "2.7.11+"
  }
 },
 "nbformat": 4,
 "nbformat_minor": 0
}
