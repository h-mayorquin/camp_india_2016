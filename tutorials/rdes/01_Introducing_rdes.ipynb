{
 "cells": [
  {
   "cell_type": "markdown",
   "metadata": {},
   "source": [
    "# Basics\n",
    "This is the basic usage of rdesigneur"
   ]
  },
  {
   "cell_type": "markdown",
   "metadata": {},
   "source": [
    "moose.showfields function givis details of moose objects."
   ]
  },
  {
   "cell_type": "code",
   "execution_count": 1,
   "metadata": {
    "collapsed": false,
    "scrolled": false
   },
   "outputs": [
    {
     "name": "stdout",
     "output_type": "stream",
     "text": [
      "Rdesigneur: Elec model has 1 compartments and 0 spines on 0 compartments.\n",
      "\n",
      "[ /model[0]/elec[0]/soma[0] ]\n",
      "diameter         = 0.0005\n",
      "fieldIndex       = 0\n",
      "Ra               = 7639437.26841\n",
      "y0               = 0.0\n",
      "Rm               = 424413.177334\n",
      "index            = 0\n",
      "numData          = 1\n",
      "inject           = 0.0\n",
      "initVm           = -0.065\n",
      "Em               = -0.0544\n",
      "y                = 0.0\n",
      "numField         = 1\n",
      "path             = /model[0]/elec[0]/soma[0]\n",
      "dt               = 0.0\n",
      "tick             = -2\n",
      "z0               = 0.0\n",
      "name             = soma\n",
      "Cm               = 7.85398163398e-09\n",
      "x0               = 0.0\n",
      "Vm               = -0.06\n",
      "className        = ZombieCompartment\n",
      "idValue          = 469\n",
      "length           = 0.0005\n",
      "Im               = 1.3194689277e-08\n",
      "x                = 0.0005\n",
      "z                = 0.0\n"
     ]
    }
   ],
   "source": [
    "import moose\n",
    "import rdesigneur as rd\n",
    "rdes = rd.rdesigneur()\n",
    "rdes.buildModel()\n",
    "moose.showfields( rdes.soma )"
   ]
  },
  {
   "cell_type": "markdown",
   "metadata": {},
   "source": [
    "moose objects .valueFields gives a the list ov value fields"
   ]
  },
  {
   "cell_type": "code",
   "execution_count": 2,
   "metadata": {
    "collapsed": false,
    "scrolled": true
   },
   "outputs": [
    {
     "data": {
      "text/plain": [
       "('this',\n",
       " 'name',\n",
       " 'me',\n",
       " 'parent',\n",
       " 'children',\n",
       " 'path',\n",
       " 'className',\n",
       " 'numData',\n",
       " 'numField',\n",
       " 'idValue',\n",
       " 'index',\n",
       " 'fieldIndex',\n",
       " 'tick',\n",
       " 'dt',\n",
       " 'valueFields',\n",
       " 'sourceFields',\n",
       " 'destFields',\n",
       " 'msgOut',\n",
       " 'msgIn',\n",
       " 'Vm',\n",
       " 'Cm',\n",
       " 'Em',\n",
       " 'Im',\n",
       " 'inject',\n",
       " 'initVm',\n",
       " 'Rm',\n",
       " 'Ra',\n",
       " 'diameter',\n",
       " 'length',\n",
       " 'x0',\n",
       " 'y0',\n",
       " 'z0',\n",
       " 'x',\n",
       " 'y',\n",
       " 'z')"
      ]
     },
     "execution_count": 2,
     "metadata": {},
     "output_type": "execute_result"
    }
   ],
   "source": [
    "rdes.soma.valueFields"
   ]
  },
  {
   "cell_type": "code",
   "execution_count": 3,
   "metadata": {
    "collapsed": false
   },
   "outputs": [
    {
     "data": {
      "text/plain": [
       "424413.1773342278"
      ]
     },
     "execution_count": 3,
     "metadata": {},
     "output_type": "execute_result"
    }
   ],
   "source": [
    "rdes.soma.Rm"
   ]
  },
  {
   "cell_type": "code",
   "execution_count": 4,
   "metadata": {
    "collapsed": false
   },
   "outputs": [
    {
     "data": {
      "text/plain": [
       "0.0005"
      ]
     },
     "execution_count": 4,
     "metadata": {},
     "output_type": "execute_result"
    }
   ],
   "source": [
    "rdes.soma.diameter"
   ]
  }
 ],
 "metadata": {
  "kernelspec": {
   "display_name": "Python 2",
   "language": "python",
   "name": "python2"
  },
  "language_info": {
   "codemirror_mode": {
    "name": "ipython",
    "version": 2
   },
   "file_extension": ".py",
   "mimetype": "text/x-python",
   "name": "python",
   "nbconvert_exporter": "python",
   "pygments_lexer": "ipython2",
   "version": "2.7.11+"
  }
 },
 "nbformat": 4,
 "nbformat_minor": 0
}
