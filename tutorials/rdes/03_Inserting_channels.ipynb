{
 "cells": [
  {
   "cell_type": "code",
   "execution_count": 1,
   "metadata": {
    "collapsed": true
   },
   "outputs": [],
   "source": [
    "import moose\n",
    "import pylab\n",
    "import rdesigneur as rd"
   ]
  },
  {
   "cell_type": "code",
   "execution_count": 2,
   "metadata": {
    "collapsed": false
   },
   "outputs": [],
   "source": [
    "rdes = rd.rdesigneur(\n",
    "    chanProto = [['make_HH_Na()', 'Na'], ['make_HH_K()', 'K']], #definitions of the Na and the K channels\n",
    "    chanDistrib = [\n",
    "        ['Na', 'soma', 'Gbar', '1200' ], #1:which channel 2:where 3:Gbar = channel density 4:whatis the density in SI units\n",
    "        ['K', 'soma', 'Gbar', '360' ] #try to change the values of the densities to see different behaviour\n",
    "    ], \n",
    "\n",
    "    stimList = [['soma', '1', '.', 'inject', '(t>0.1 && t<0.2) * 1e-8' ]],\n",
    "    plotList = [['soma', '1', '.', 'Vm', 'Membrane potential']\n",
    "                ,['soma', '1', 'Na', 'Ik', 'Na Channel Current'] \n",
    "                ,['soma', '1', 'K', 'Gk', 'K Channel conductance']                \n",
    "               ]\n",
    ")"
   ]
  },
  {
   "cell_type": "markdown",
   "metadata": {
    "collapsed": true
   },
   "source": [
    "The fields which plotList understands is \n",
    "'Ik','Ca', 'Im', 'inject', 'conc', 'Gbar', 'Gk', 'Vm', 'n'"
   ]
  },
  {
   "cell_type": "code",
   "execution_count": 3,
   "metadata": {
    "collapsed": false
   },
   "outputs": [],
   "source": [
    "#moose.showfields(rdes.soma)"
   ]
  },
  {
   "cell_type": "code",
   "execution_count": 4,
   "metadata": {
    "collapsed": false
   },
   "outputs": [
    {
     "name": "stdout",
     "output_type": "stream",
     "text": [
      "Rdesigneur: Elec model has 1 compartments and 0 spines on 0 compartments.\n"
     ]
    }
   ],
   "source": [
    "rdes.buildModel()\n",
    "moose.reinit()\n",
    "moose.start( 0.3 )\n",
    "\n",
    "rdes.display()"
   ]
  },
  {
   "cell_type": "code",
   "execution_count": 5,
   "metadata": {
    "collapsed": false,
    "scrolled": false
   },
   "outputs": [
    {
     "name": "stdout",
     "output_type": "stream",
     "text": [
      "\n",
      "[ /model[0]/elec[0]/soma[0]/Na[0] ]\n",
      "fieldIndex           = 0\n",
      "Zpower               = 0.0\n",
      "X                    = 0.0769388597394\n",
      "index                = 0\n",
      "Z                    = 0.0\n",
      "numData              = 1\n",
      "Gbar                 = 0.000942477796077\n",
      "Xpower               = 3.0\n",
      "modulation           = 1.0\n",
      "numField             = 1\n",
      "useConcentration     = 0\n",
      "Y                    = 0.480462441577\n",
      "path                 = /model[0]/elec[0]/soma[0]/Na[0]\n",
      "dt                   = 0.0\n",
      "tick                 = -2\n",
      "instant              = 0\n",
      "name                 = Na\n",
      "Ek                   = 0.05\n",
      "Ypower               = 1.0\n",
      "className            = ZombieHHChannel\n",
      "idValue              = 478\n",
      "Ik                   = 2.40809079141e-08\n",
      "Gk                   = 2.06237581993e-07\n"
     ]
    }
   ],
   "source": [
    "#moose.le(rdes.soma)\n",
    "na=moose.element('/model[0]/elec[0]/soma[0]/Na[0]')\n",
    "moose.showfields(na)\n"
   ]
  }
 ],
 "metadata": {
  "kernelspec": {
   "display_name": "Python 2",
   "language": "python",
   "name": "python2"
  },
  "language_info": {
   "codemirror_mode": {
    "name": "ipython",
    "version": 2
   },
   "file_extension": ".py",
   "mimetype": "text/x-python",
   "name": "python",
   "nbconvert_exporter": "python",
   "pygments_lexer": "ipython2",
   "version": "2.7.11+"
  }
 },
 "nbformat": 4,
 "nbformat_minor": 0
}
