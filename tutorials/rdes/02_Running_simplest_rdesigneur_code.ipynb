{
 "cells": [
  {
   "cell_type": "code",
   "execution_count": null,
   "metadata": {
    "collapsed": true
   },
   "outputs": [],
   "source": [
    "%matplotlib inline\n",
    "import moose\n",
    "import rdesigneur as rd"
   ]
  },
  {
   "cell_type": "markdown",
   "metadata": {},
   "source": [
    "We will give a stimulus in the soma compartment using the inject field. The "
   ]
  },
  {
   "cell_type": "code",
   "execution_count": null,
   "metadata": {
    "collapsed": false
   },
   "outputs": [],
   "source": [
    "rdes = rd.rdesigneur(elecDt=1e-6, elecPlotDt = 5e-5,\n",
    "    stimList = [['soma', '1', '.', 'inject', '(t>0.1 && t<0.2) * 2e-8' ]], #in the last string, you can give the input as a function of t\n",
    "#     for example comment above line and uncomment the one below\n",
    "#     stimList = [['soma', '1', '.', 'inject', '(t>0.1 && t<0.2) * 2e-8 *sin(2*3.14*100*t)' ]],\n",
    "    plotList = [['soma', '1', '.', 'Vm', 'Soma membrane potential']] # in the 4th string, you can change other feilds to plot. (example Im)\n",
    "#     for example comment above line and uncomment the one below\n",
    "#     plotList = [['soma', '1', '.', 'Vm', 'Soma membrane potential'],['soma', '1', '.', 'inject', 'Injected current']] \n",
    ")"
   ]
  },
  {
   "cell_type": "code",
   "execution_count": null,
   "metadata": {
    "collapsed": false
   },
   "outputs": [],
   "source": [
    "rdes.buildModel()"
   ]
  },
  {
   "cell_type": "markdown",
   "metadata": {},
   "source": [
    "Initialize and run moose"
   ]
  },
  {
   "cell_type": "code",
   "execution_count": null,
   "metadata": {
    "collapsed": true
   },
   "outputs": [],
   "source": [
    "moose.reinit()\n",
    "moose.start( 0.3 )"
   ]
  },
  {
   "cell_type": "code",
   "execution_count": null,
   "metadata": {
    "collapsed": false
   },
   "outputs": [],
   "source": [
    "rdes.display()"
   ]
  }
 ],
 "metadata": {
  "kernelspec": {
   "display_name": "Python 2",
   "language": "python",
   "name": "python2"
  },
  "language_info": {
   "codemirror_mode": {
    "name": "ipython",
    "version": 2
   },
   "file_extension": ".py",
   "mimetype": "text/x-python",
   "name": "python",
   "nbconvert_exporter": "python",
   "pygments_lexer": "ipython2",
   "version": "2.7.11+"
  }
 },
 "nbformat": 4,
 "nbformat_minor": 0
}
