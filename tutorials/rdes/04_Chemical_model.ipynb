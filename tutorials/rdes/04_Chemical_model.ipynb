{
 "cells": [
  {
   "cell_type": "code",
   "execution_count": 1,
   "metadata": {
    "collapsed": true
   },
   "outputs": [],
   "source": [
    "import moose\n",
    "import pylab\n",
    "import rdesigneur as rd"
   ]
  },
  {
   "cell_type": "markdown",
   "metadata": {},
   "source": [
    "    This function sets up a simple oscillatory chemical system within\n",
    "    the script. The reaction system is::\n",
    "\n",
    "        s ---a---> a  // s goes to a, catalyzed by a.\n",
    "        s ---a---> b  // s goes to b, catalyzed by a.\n",
    "        a ---b---> s  // a goes to s, catalyzed by b.\n",
    "        b -------> s  // b is degraded irreversibly to s.\n",
    "\n",
    "    in sum, **a** has a positive feedback onto itself and also forms **b**.\n",
    "    **b** has a negative feedback onto **a**.\n",
    "    Finally, the diffusion constant for **a** is 1/10 that of **b**."
   ]
  },
  {
   "cell_type": "code",
   "execution_count": 2,
   "metadata": {
    "collapsed": true
   },
   "outputs": [],
   "source": [
    "rdes = rd.rdesigneur(\n",
    "    turnOffElec = True,\n",
    "    diffusionLength = 1e-3, # Default diffusion length is 2 microns to make it essentially single compartment\n",
    "    chemProto = [['makeChemOscillator()', 'osc']],\n",
    "    chemDistrib = [['osc', 'soma', 'install', '1' ]],\n",
    "    plotList = [['soma', '1', 'dend/a', 'conc', 'a Conc'],\n",
    "        ['soma', '1', 'dend/b', 'conc', 'b Conc']]\n",
    ")"
   ]
  },
  {
   "cell_type": "code",
   "execution_count": 3,
   "metadata": {
    "collapsed": false
   },
   "outputs": [
    {
     "name": "stdout",
     "output_type": "stream",
     "text": [
      "Rdesigneur: Elec model has 1 compartments and 0 spines on 1 compartments.\n",
      "Chem part of model has  1 dendrite voxels X 3 pools,\n",
      "    \n"
     ]
    }
   ],
   "source": [
    "rdes.buildModel()\n",
    "b = moose.element( '/model/chem/dend/b' )\n",
    "b.concInit *= 5"
   ]
  },
  {
   "cell_type": "code",
   "execution_count": 4,
   "metadata": {
    "collapsed": true
   },
   "outputs": [],
   "source": [
    "moose.reinit()\n",
    "moose.start( 200 )\n",
    "\n",
    "rdes.display()"
   ]
  }
 ],
 "metadata": {
  "kernelspec": {
   "display_name": "Python 2",
   "language": "python",
   "name": "python2"
  },
  "language_info": {
   "codemirror_mode": {
    "name": "ipython",
    "version": 2
   },
   "file_extension": ".py",
   "mimetype": "text/x-python",
   "name": "python",
   "nbconvert_exporter": "python",
   "pygments_lexer": "ipython2",
   "version": "2.7.11+"
  }
 },
 "nbformat": 4,
 "nbformat_minor": 0
}
