{
 "cells": [
  {
   "cell_type": "code",
   "execution_count": null,
   "metadata": {
    "collapsed": true
   },
   "outputs": [],
   "source": [
    "%matplotlib inline\n",
    "import moose\n",
    "import matplotlib.pyplot as plt\n",
    "import matplotlib.image as mpimg\n",
    "import numpy"
   ]
  },
  {
   "cell_type": "code",
   "execution_count": null,
   "metadata": {
    "collapsed": true
   },
   "outputs": [],
   "source": [
    "def displayPlots():\n",
    "    '''Plotting concentration of reacting entities over time.'''\n",
    "    for x in moose.wildcardFind( '/model/graphs/conc#/#' ):\n",
    "        t = numpy.arange( 0, x.vector.size, 1 ) #sec\n",
    "        plt.plot( t, x.vector, label=x.name )\n",
    "        plt.xlabel(\"Time (s)\")\n",
    "        plt.ylabel(\"Concentration (mM)\")\n",
    "    plt.legend(bbox_to_anchor=(0., 1.02, 1., .102), loc=3,\n",
    "           ncol=3, mode=\"expand\", borderaxespad=0.)\n",
    "    plt.show()"
   ]
  },
  {
   "cell_type": "code",
   "execution_count": null,
   "metadata": {
    "collapsed": true
   },
   "outputs": [],
   "source": [
    "solver = \"gsl\"  # Pick any of gsl, gssa, ee..\n",
    "#moose.seed(124) # Important for stochastic simulation\n",
    "mfile = 'M1719.g'\n",
    "runtime = 100.0 #s\n",
    "volume = 0.2e-18 #m^3"
   ]
  },
  {
   "cell_type": "code",
   "execution_count": null,
   "metadata": {
    "collapsed": false
   },
   "outputs": [],
   "source": [
    "moose.loadModel( mfile, '/model', solver )"
   ]
  },
  {
   "cell_type": "code",
   "execution_count": null,
   "metadata": {
    "collapsed": false
   },
   "outputs": [],
   "source": [
    "compartment = moose.element( 'model/kinetics' )\n",
    "compartment.volume = volume #\n",
    "r = moose.element( '/model/kinetics/equil' )\n",
    "\n",
    "moose.reinit()\n",
    "moose.start( runtime ) \n",
    "r.Kf *= 1.1 # small tap to break symmetry\n",
    "moose.start( runtime ) \n",
    "r.Kf = r.Kb\n",
    "moose.start( runtime ) \n",
    "\n",
    "r.Kb *= 2.0 # Moderate push does not tip it back.\n",
    "moose.start( runtime ) \n",
    "r.Kb = r.Kf\n",
    "moose.start( runtime ) \n",
    "\n",
    "r.Kb *= 5.0 # Strong push does tip it over\n",
    "moose.start( runtime ) \n",
    "r.Kb = r.Kf\n",
    "moose.start( runtime ) \n",
    "r.Kf *= 5.0 # Strong push tips it back.\n",
    "moose.start( runtime ) \n",
    "r.Kf = r.Kb\n",
    "moose.start( runtime ) \n",
    "\n",
    "displayPlots()"
   ]
  },
  {
   "cell_type": "code",
   "execution_count": null,
   "metadata": {
    "collapsed": true
   },
   "outputs": [],
   "source": []
  }
 ],
 "metadata": {
  "kernelspec": {
   "display_name": "Python 2",
   "language": "python",
   "name": "python2"
  },
  "language_info": {
   "codemirror_mode": {
    "name": "ipython",
    "version": 2
   },
   "file_extension": ".py",
   "mimetype": "text/x-python",
   "name": "python",
   "nbconvert_exporter": "python",
   "pygments_lexer": "ipython2",
   "version": "2.7.6"
  }
 },
 "nbformat": 4,
 "nbformat_minor": 0
}
