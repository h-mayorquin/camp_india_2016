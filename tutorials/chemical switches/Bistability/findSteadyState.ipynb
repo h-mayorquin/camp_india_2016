{
 "cells": [
  {
   "cell_type": "code",
   "execution_count": 1,
   "metadata": {
    "collapsed": true,
    "slideshow": {
     "slide_type": "slide"
    }
   },
   "outputs": [],
   "source": [
    "%matplotlib inline\n",
    "import matplotlib.pyplot as plt\n",
    "import numpy\n",
    "import moose"
   ]
  },
  {
   "cell_type": "code",
   "execution_count": 2,
   "metadata": {
    "collapsed": true,
    "slideshow": {
     "slide_type": "subslide"
    }
   },
   "outputs": [],
   "source": [
    "def displayPlots():\n",
    "    '''Plotting concentration of reacting entities over time.'''\n",
    "    for x in moose.wildcardFind( '/model/graphs/conc#/#' ):\n",
    "        t = numpy.arange( 0, x.vector.size, 1 ) #sec\n",
    "        plt.plot( t, x.vector, label=x.name )\n",
    "        plt.xlabel(\"Time(s)\")\n",
    "        plt.ylabel(\"Concentration (mM)\")\n",
    "    plt.legend(bbox_to_anchor=(0., 1.02, 1., .102), loc=3,\n",
    "           ncol=3, mode=\"expand\", borderaxespad=0.)\n",
    "    plt.show()"
   ]
  },
  {
   "cell_type": "code",
   "execution_count": 3,
   "metadata": {
    "collapsed": true,
    "slideshow": {
     "slide_type": "fragment"
    }
   },
   "outputs": [],
   "source": [
    "def getState( state ):\n",
    "    '''Randomize initial conditions and find steady states'''\n",
    "    state.randomInit()\n",
    "    moose.start( 2 ) # Run the model for 2 seconds.\n",
    "    state.settle()        \n",
    "    moose.start( 100.0 ) # Run model for 10 seconds, just for display\n",
    "    steadyStateVector = [  y.conc for y in moose.wildcardFind( '/model/kinetics/##[ISA=PoolBase]')]\n",
    "    return steadyStateVector"
   ]
  },
  {
   "cell_type": "code",
   "execution_count": 4,
   "metadata": {
    "collapsed": false,
    "slideshow": {
     "slide_type": "subslide"
    }
   },
   "outputs": [
    {
     "data": {
      "text/plain": [
       "<moose.vec: class=Neutral, id=458, path=/model>"
      ]
     },
     "execution_count": 4,
     "metadata": {},
     "output_type": "execute_result"
    }
   ],
   "source": [
    "moose.loadModel( 'M1719.g', '/model', 'ee' )"
   ]
  },
  {
   "cell_type": "markdown",
   "metadata": {
    "slideshow": {
     "slide_type": "fragment"
    }
   },
   "source": [
    "![Model M1719](strongBis.png \"Bistable model\")"
   ]
  },
  {
   "cell_type": "code",
   "execution_count": null,
   "metadata": {
    "collapsed": true,
    "slideshow": {
     "slide_type": "subslide"
    }
   },
   "outputs": [],
   "source": [
    "compartment = moose.element( 'model/kinetics' )\n",
    "ksolve = moose.Ksolve( '/model/kinetics/ksolve' )\n",
    "\n",
    "stoich = moose.Stoich( '/model/kinetics/stoich' )\n",
    "stoich.compartment = compartment\n",
    "stoich.ksolve = ksolve\n",
    "stoich.path = \"/model/kinetics/##\"\n",
    "\n",
    "state = moose.SteadyState( '/model/kinetics/state' )\n",
    "\n",
    "moose.reinit()\n",
    "state.stoich = stoich"
   ]
  },
  {
   "cell_type": "code",
   "execution_count": null,
   "metadata": {
    "collapsed": false,
    "slideshow": {
     "slide_type": "subslide"
    }
   },
   "outputs": [],
   "source": [
    "for i in range( 0, 5 ):\n",
    "    SS_vector = getState( state )\n",
    "    #print SS_vector\n",
    "\n",
    "moose.start( 100.0 ) # Run the model for 100 seconds.\n",
    "\n",
    "b = moose.element( '/model/kinetics/b' )\n",
    "c = moose.element( '/model/kinetics/c' )\n",
    "\n",
    "# move most molecules over to b\n",
    "b.conc = b.conc + c.conc * 0.95\n",
    "c.conc = c.conc * 0.05\n",
    "moose.start( 100.0 ) # Run the model for 100 seconds.\n",
    "\n",
    "# move most molecules back to a\n",
    "c.conc = c.conc + b.conc * 0.95\n",
    "b.conc = b.conc * 0.05\n",
    "moose.start( 100.0 ) # Run the model for 100 seconds.\n",
    "\n",
    "# Iterate through all plots, dump their contents to data.plot.\n",
    "displayPlots()"
   ]
  }
 ],
 "metadata": {
  "celltoolbar": "Slideshow",
  "kernelspec": {
   "display_name": "Python 2",
   "language": "python",
   "name": "python2"
  },
  "language_info": {
   "codemirror_mode": {
    "name": "ipython",
    "version": 2
   },
   "file_extension": ".py",
   "mimetype": "text/x-python",
   "name": "python",
   "nbconvert_exporter": "python",
   "pygments_lexer": "ipython2",
   "version": "2.7.6"
  }
 },
 "nbformat": 4,
 "nbformat_minor": 0
}
