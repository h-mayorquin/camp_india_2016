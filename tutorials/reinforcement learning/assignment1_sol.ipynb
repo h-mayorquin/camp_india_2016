{
 "cells": [
  {
   "cell_type": "code",
   "execution_count": 3,
   "metadata": {
    "collapsed": false
   },
   "outputs": [],
   "source": [
    "from gridworld import *\n",
    "% matplotlib inline\n",
    "\n",
    "# create the gridworld as a specific MDP\n",
    "gridworld=GridMDP([[-0.04,-0.04,-0.04,1],[-0.04,None, -0.04, -1], [-0.04, -0.04, -0.04, -0.04]], terminals=[(3,2), (3,1)], gamma=1.)\n",
    "\n",
    "example_pi = {(0,0): (0,1), (0,1): (0,1), (0,2): (1,0), (1,0): (1,0), (1,2): (1,0), (2,0): (0,1), (2,1): (0,1), (2,2): (1,0), (3,0):(-1,0), (3,1): None, (3,2):None}\n",
    "\n",
    "example_V = {(0,0): 0.1, (0,1): 0.2, (0,2): 0.3, (1,0): 0.05, (1,2): 0.5, (2,0): 0., (2,1): -0.2, (2,2): 0.5, (3,0):-0.4, (3,1): -1, (3,2):+1}"
   ]
  },
  {
   "cell_type": "code",
   "execution_count": 4,
   "metadata": {
    "collapsed": false
   },
   "outputs": [],
   "source": [
    "\"\"\" \n",
    "1) \tComplete the function policy evaluation below and use it on example_pi!\n",
    "\tThe function takes as input a policy pi, and an MDP (including its transition model, \n",
    "\treward and discounting factor gamma), and gives as output the value function for this\n",
    "\tspecific policy in the MDP. Use equation (1) in the lecture slides!\n",
    "\"\"\"\n",
    "\n",
    "\n",
    "def policy_evaluation(pi, V, mdp, k=20):\n",
    "    \"\"\"Return an updated value function V for each state in the MDP \"\"\"\n",
    "    R, T, gamma = mdp.R, mdp.T, mdp.gamma\t# retrieve reward, transition model and gamma from the MDP\n",
    "    for i in range(k):\t\t\t\t# iterative update of V\n",
    "        for s in mdp.states:\n",
    "             V[s] = R(s) + gamma * sum([p * V[s1] for (p, s1) in T(s, pi[s])])\n",
    "    return V"
   ]
  },
  {
   "cell_type": "code",
   "execution_count": 5,
   "metadata": {
    "collapsed": false
   },
   "outputs": [
    {
     "data": {
      "text/plain": [
       "[(0.8, (3, 1)), (0.1, (2, 0)), (0.1, (2, 2))]"
      ]
     },
     "execution_count": 5,
     "metadata": {},
     "output_type": "execute_result"
    }
   ],
   "source": [
    "gridworld.T((2,1),(1,0))"
   ]
  },
  {
   "cell_type": "code",
   "execution_count": 6,
   "metadata": {
    "collapsed": false
   },
   "outputs": [
    {
     "data": {
      "text/plain": [
       "[(1, 0), (0, 1), (-1, 0), (0, -1)]"
      ]
     },
     "execution_count": 6,
     "metadata": {},
     "output_type": "execute_result"
    }
   ],
   "source": [
    "gridworld.actions((1,1))"
   ]
  },
  {
   "cell_type": "code",
   "execution_count": 7,
   "metadata": {
    "collapsed": false
   },
   "outputs": [
    {
     "data": {
      "image/png": "[encoded data removed]",
      "text/plain": [
       "<matplotlib.figure.Figure at 0x7f5f002108d0>"
      ]
     },
     "metadata": {},
     "output_type": "display_data"
    },
    {
     "data": {
      "image/png": "[encoded data removed]",
      "text/plain": [
       "<matplotlib.figure.Figure at 0x7f5ed675a310>"
      ]
     },
     "metadata": {},
     "output_type": "display_data"
    }
   ],
   "source": [
    "V=policy_evaluation(example_pi, example_V, gridworld)\n",
    "gridworld.policy_plot(example_pi)\n",
    "gridworld.v_plot(V)"
   ]
  },
  {
   "cell_type": "code",
   "execution_count": 8,
   "metadata": {
    "collapsed": true
   },
   "outputs": [],
   "source": [
    "\"\"\"\n",
    "2)\tComplete the function value iteration below and use it to compute the optimal value function for the gridworld.\n",
    "\tThe function takes as input the MDP (including reward function and transition model) and is supposed to compute\n",
    "\tthe optimal value function using the value iteration algorithm presented in the lecture. Use the function best_policy\n",
    "\tto compute to compute the optimal policy under this value function!\n",
    "\n",
    "\"\"\"\n",
    "\n",
    "def value_iteration(mdp, epsilon=0.0001):\n",
    "    \"Solving an MDP by value iteration. epsilon determines the convergence criterion for stopping\"\n",
    "    V1 = dict([(s, 0) for s in mdp.states]) # initialize value function\n",
    "    R, T, gamma = mdp.R, mdp.T, mdp.gamma\n",
    "    while True:\n",
    "        V = V1.copy()\n",
    "        delta = 0\n",
    "        for s in mdp.states:\n",
    "            V1[s] = R(s) + gamma * max([sum([p * V[s1] for (p, s1) in T(s, a)])\n",
    "                                        for a in mdp.actions(s)])\n",
    "            delta = max(delta, abs(V1[s] - V[s]))\n",
    "        if delta < epsilon:\n",
    "             return V\n",
    "\n",
    "\n",
    "def argmax(seq, fn):\n",
    "    best = seq[0]; best_score = fn(best)\n",
    "    for x in seq:\n",
    "        x_score = fn(x)\n",
    "        if x_score > best_score:\n",
    "            best, best_score = x, x_score\n",
    "    return best\n",
    "\n",
    "def expected_utility(a, s, V, mdp):\n",
    "    \"The expected utility of doing a in state s, according to the MDP and U.\"\n",
    "    return sum([p * V[s1] for (p, s1) in mdp.T(s, a)])\n",
    "\n",
    "\n",
    "def best_policy(mdp, V):\n",
    "    \"\"\"Given an MDP and a utility function V, best_policy determines the best policy,\n",
    "    as a mapping from state to action. \"\"\"\n",
    "    pi = {}\n",
    "    for s in mdp.states:\n",
    "        pi[s] = argmax(mdp.actions(s), lambda a:expected_utility(a, s, V, mdp))\n",
    "    return pi"
   ]
  },
  {
   "cell_type": "code",
   "execution_count": 9,
   "metadata": {
    "collapsed": false
   },
   "outputs": [
    {
     "data": {
      "image/png": "[encoded data removed]",
      "text/plain": [
       "<matplotlib.figure.Figure at 0x7f5ed8cbd650>"
      ]
     },
     "metadata": {},
     "output_type": "display_data"
    },
    {
     "data": {
      "image/png": "[encoded data removed]",
      "text/plain": [
       "<matplotlib.figure.Figure at 0x7f5ed622bb10>"
      ]
     },
     "metadata": {},
     "output_type": "display_data"
    }
   ],
   "source": [
    "Vopt=value_iteration(gridworld)\n",
    "piopt = best_policy(gridworld, Vopt)\n",
    "gridworld.policy_plot(piopt)\n",
    "gridworld.v_plot(Vopt)\n"
   ]
  },
  {
   "cell_type": "code",
   "execution_count": 10,
   "metadata": {
    "collapsed": true
   },
   "outputs": [],
   "source": [
    "\"\"\"\n",
    "3)\tComplete the function policy iteration below and use it to compute the optimal policy for the gridworld.\n",
    "\tThe function takes as input the MDP (including reward function and transition model) and is supposed to compute\n",
    "\tthe optimal policy using the policy iteration algorithm presented in the lecture. Compare the result with what\n",
    "\tyou got from running value_iteration and best_policy!\t\n",
    "\"\"\"\n",
    "\n",
    "\n",
    "def policy_iteration(mdp):\n",
    "    \"Solve an MDP by policy iteration\"\n",
    "    V = dict([(s, 0) for s in mdp.states])\n",
    "    pi = dict([(s, random.choice(mdp.actions(s))) for s in mdp.states])\n",
    "    while True:\n",
    "        V = policy_evaluation(pi, V, mdp)\n",
    "        unchanged = True\n",
    "        for s in mdp.states:\n",
    "            a = argmax(mdp.actions(s), lambda a: expected_utility(a,s,V,mdp))\n",
    "            if a != pi[s]:\n",
    "                pi[s] = a\n",
    "                unchanged = False\n",
    "        if unchanged:\n",
    "            return pi"
   ]
  },
  {
   "cell_type": "code",
   "execution_count": 11,
   "metadata": {
    "collapsed": false
   },
   "outputs": [
    {
     "data": {
      "image/png": "[encoded data removed]",
      "text/plain": [
       "<matplotlib.figure.Figure at 0x7f5ed675a490>"
      ]
     },
     "metadata": {},
     "output_type": "display_data"
    },
    {
     "data": {
      "image/png": "[encoded data removed]",
      "text/plain": [
       "<matplotlib.figure.Figure at 0x7f5ed606a090>"
      ]
     },
     "metadata": {},
     "output_type": "display_data"
    }
   ],
   "source": [
    "piopt2 = policy_iteration(gridworld)\n",
    "Vopt2 = policy_evaluation(piopt2, example_V, gridworld)\n",
    "gridworld.policy_plot(piopt2)\n",
    "gridworld.v_plot(Vopt2)\n"
   ]
  },
  {
   "cell_type": "code",
   "execution_count": null,
   "metadata": {
    "collapsed": true
   },
   "outputs": [],
   "source": []
  },
  {
   "cell_type": "code",
   "execution_count": null,
   "metadata": {
    "collapsed": true
   },
   "outputs": [],
   "source": []
  }
 ],
 "metadata": {
  "kernelspec": {
   "display_name": "Python 2",
   "language": "python",
   "name": "python2"
  },
  "language_info": {
   "codemirror_mode": {
    "name": "ipython",
    "version": 2
   },
   "file_extension": ".py",
   "mimetype": "text/x-python",
   "name": "python",
   "nbconvert_exporter": "python",
   "pygments_lexer": "ipython2",
   "version": "2.7.11"
  }
 },
 "nbformat": 4,
 "nbformat_minor": 0
}
