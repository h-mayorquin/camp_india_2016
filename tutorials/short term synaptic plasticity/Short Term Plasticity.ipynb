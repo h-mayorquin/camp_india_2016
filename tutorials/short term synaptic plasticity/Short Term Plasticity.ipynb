{
 "cells": [
  {
   "cell_type": "code",
   "execution_count": null,
   "metadata": {
    "collapsed": false,
    "slideshow": {
     "slide_type": "skip"
    }
   },
   "outputs": [],
   "source": [
    "from IPython.display import HTML\n",
    "import io\n",
    "import base64\n",
    "video = io.open('/media/Shared/Documents/CAMP-2016/tutorials/STP/NT_release.mp4', 'r+b').read()\n",
    "encoded = base64.b64encode(video)\n",
    "videoData = '''<video alt=\"test\" controls> <source src=\"data:video/mp4;base64,{0}\" type=\"video/mp4\" /> </video>'''.format(encoded.decode('ascii'))\n",
    "\n",
    "from notebook.services.config import ConfigManager\n",
    "cm = ConfigManager()\n",
    "cm.update('livereveal', {\n",
    "              'theme': 'serif',\n",
    "              'transition': 'zoom',\n",
    "              'start_slideshow_at': 'selected',\n",
    "})"
   ]
  },
  {
   "cell_type": "markdown",
   "metadata": {
    "slideshow": {
     "slide_type": "slide"
    }
   },
   "source": [
    "## Overview of what all we have done until now"
   ]
  },
  {
   "cell_type": "markdown",
   "metadata": {
    "slideshow": {
     "slide_type": "slide"
    }
   },
   "source": [
    "# Short-term synaptic plasticity"
   ]
  },
  {
   "cell_type": "markdown",
   "metadata": {
    "slideshow": {
     "slide_type": "fragment"
    }
   },
   "source": [
    "Changes in synaptic efficacy over time as a function of presynaptic activity."
   ]
  },
  {
   "cell_type": "code",
   "execution_count": null,
   "metadata": {
    "collapsed": false,
    "slideshow": {
     "slide_type": "fragment"
    }
   },
   "outputs": [],
   "source": [
    "HTML(data=videoData)"
   ]
  },
  {
   "cell_type": "markdown",
   "metadata": {
    "slideshow": {
     "slide_type": "slide"
    }
   },
   "source": [
    "## Two types of STP:"
   ]
  },
  {
   "cell_type": "markdown",
   "metadata": {
    "slideshow": {
     "slide_type": "fragment"
    }
   },
   "source": [
    "* **Short-term depression (STD)**: Caused by depletion of neurotransmitters during the process of synaptic signaling at the axon terminal of a pre-synaptic neuron."
   ]
  },
  {
   "cell_type": "markdown",
   "metadata": {
    "slideshow": {
     "slide_type": "fragment"
    }
   },
   "source": [
    "* **Short-term facilitation (STF)  \n",
    "**: Caused by influx of $Ca^{2+}$ into the axon terminal after spike generation, which increases the release probability of neurotransmitters."
   ]
  },
  {
   "cell_type": "markdown",
   "metadata": {
    "slideshow": {
     "slide_type": "slide"
    }
   },
   "source": [
    "## Modeling short term synaptic plasticity"
   ]
  },
  {
   "cell_type": "markdown",
   "metadata": {
    "slideshow": {
     "slide_type": "subslide"
    }
   },
   "source": [
    " [ *Misha Tsodyks and Si Wu (2013), Scholarpedia, 8(10):3153* ]\n",
    "\n",
    "* **STD** effect is modeled by a normalized variable $ x \\in [0,1]$, fraction of resources that remain available after neurotransmitter depletion. \n",
    "\n",
    "* The **STF** effect is modeled by a utilization parameter $u \\in [0,U]$, representing the fraction of available resources ready for use (**release probability**). "
   ]
  },
  {
   "cell_type": "markdown",
   "metadata": {
    "slideshow": {
     "slide_type": "subslide"
    }
   },
   "source": [
    "Thus, following a spike, \n",
    "1. $u$ increases due to spike-induced calcium influx to the presynaptic terminal, after which \n",
    "2. A fraction $u$ of available resources is consumed to produce the post-synaptic current. \n",
    "3. Between spikes, $u$ decays back to zero with time constant $τ_f$ and $x$ recovers to $1$ with time constant $τ_d$."
   ]
  },
  {
   "cell_type": "markdown",
   "metadata": {
    "slideshow": {
     "slide_type": "subslide"
    }
   },
   "source": [
    "$$\n",
    "\\begin{aligned}\n",
    "\\frac{du}{dt} = -\\frac{u}{\\tau_f} + U(1-u^-)\\delta(t-t_{sp}) \\\\\n",
    "\\frac{dx}{dt} = \\frac{1-x}{\\tau_d} - u^+x^ -\\delta(t-t_{sp}) \\\\\n",
    "\\frac{dI}{dt} = -\\frac{I}{\\tau_s} + Au^+x^ -\\delta(t-t_{sp}), \\\\\n",
    "\\end{aligned}\n",
    "$$"
   ]
  },
  {
   "cell_type": "markdown",
   "metadata": {
    "slideshow": {
     "slide_type": "subslide"
    }
   },
   "source": [
    "$t_{sp}$: time of spike,\n",
    "$U$: increment of $u$ produced by a spike.\n",
    "$u^−, x^- \\& u^+ $ corresponding variables just before the arrival and the moment just after the spike respectively.\n",
    "\n",
    "From the first equation, $u^+=u^− + U(1 − u^−)$. The synaptic current generated at the synapse by the spike arriving at $t_{sp}$ is then given by $ ΔI(t_{sp}) = A u^+ x^− $\n",
    "\n",
    "$A$ : Absolute synaptic efficacy, or the response amplitude that would be produced by total release of all the neurotransmitter ($u=x=1$)."
   ]
  },
  {
   "cell_type": "markdown",
   "metadata": {
    "slideshow": {
     "slide_type": "slide"
    }
   },
   "source": [
    "## Now let's model it with Brian."
   ]
  },
  {
   "cell_type": "code",
   "execution_count": null,
   "metadata": {
    "collapsed": false,
    "slideshow": {
     "slide_type": "subslide"
    }
   },
   "outputs": [],
   "source": [
    "%matplotlib inline\n",
    "from brian2 import *\n",
    "\n",
    "## Number of input and output neurons\n",
    "N = 10\n",
    "\n",
    "eqs = '''\n",
    "dpreVolt/dt=r : 1\n",
    "r : Hz\n",
    "'''\n",
    "spikingNeurons = NeuronGroup(N, model=eqs, threshold='preVolt>1.', reset='preVolt=0.')\n",
    "spikingNeurons.r = linspace(5 * Hz, 30 * Hz, N)\n",
    "\n",
    "#store()\n",
    "#input_spikes = SpikeMonitor(spikingNeurons)\n",
    "#run(1000 * ms)\n",
    "#plot(input_spikes.t, input_spikes.i, '|k')\n",
    "#xlabel('Time (ms)')\n",
    "#ylabel('Neuron index')\n",
    "#show()\n",
    "#restore()"
   ]
  },
  {
   "cell_type": "code",
   "execution_count": null,
   "metadata": {
    "collapsed": false,
    "slideshow": {
     "slide_type": "subslide"
    }
   },
   "outputs": [],
   "source": [
    "## Let us initialize variables for the output neurons.\n",
    "\n",
    "tau_s = 3 * ms # Decay current\n",
    "tau_m = 10 * ms # Decay of membrane potential\n",
    "Rm = 100 * Mohm # Membrane resistance\n",
    "\n",
    "eqs_neuron = '''\n",
    "dv/dt=(Rm*I-v)/tau_m:volt\n",
    "dI/dt=-I/tau_s:amp\n",
    "'''\n",
    "outputNeurons = NeuronGroup(N, model=eqs_neuron)"
   ]
  },
  {
   "cell_type": "code",
   "execution_count": null,
   "metadata": {
    "collapsed": true,
    "slideshow": {
     "slide_type": "subslide"
    }
   },
   "outputs": [],
   "source": [
    "## Let's put synapses between these groups of neurons.\n",
    "\n",
    "A_SE = 250 * pA # Absolute synaptic efficacy\n",
    "\n",
    "#taud=1*ms # Decay time synaptic depression\n",
    "#tauf=100*ms # Decay time synaptic facilitation\n",
    "#U=.1 # Release probability\n",
    "\n",
    "taud=100*ms # Decay time synaptic depression\n",
    "tauf=10*ms # Decay time synaptic facilitation\n",
    "U=.2 # Release probability"
   ]
  },
  {
   "cell_type": "code",
   "execution_count": null,
   "metadata": {
    "collapsed": false,
    "slideshow": {
     "slide_type": "subslide"
    }
   },
   "outputs": [],
   "source": [
    "S=Synapses(spikingNeurons, outputNeurons,\n",
    "           model='''w : amp\n",
    "                    dx/dt=(1-x)/taud : 1\n",
    "                    du/dt=(U-u)/tauf : 1\n",
    "                 ''',\n",
    "           on_pre=''' u+=U*(1-u)\n",
    "                  I+=w*u*x\n",
    "                  x-= x*u''')\n",
    "\n",
    "S.connect('i==j') # one to one connection\n",
    "S.w=A_SE # Initializing synaptic weights to absolute synaptic efficacy\n",
    "\n",
    "# Initialization of STP variables\n",
    "\n",
    "S.x = 1 # Fraction of resources that remain available after neurotransmitter depletion \n",
    "S.u = U # Fraction of available resources ready for use (release probability)"
   ]
  },
  {
   "cell_type": "code",
   "execution_count": null,
   "metadata": {
    "collapsed": false,
    "slideshow": {
     "slide_type": "subslide"
    }
   },
   "outputs": [],
   "source": [
    "## Setting up monitors\n",
    "recordingNeurons = [0, N/2, N - 1]\n",
    "trace = StateMonitor(outputNeurons, 'v', record=recordingNeurons)\n",
    "u_vals = StateMonitor(S, 'u', record=recordingNeurons)\n",
    "x_vals = StateMonitor(S, 'x', record=recordingNeurons)\n",
    "\n",
    "#monitors = [trace, u_vals, x_vals]\n",
    "#net = Network(collect())  # automatically include G and S\n",
    "#net.add(monitors)  # manually add the monitors\n",
    "\n",
    "run(1000 * ms)\n",
    "\n",
    "for i, index in enumerate(recordingNeurons):\n",
    "    subplot(3,1,i+1)\n",
    "    plot(trace.t/ms, trace.v[i] / mV)\n",
    "    title('Vm_' + str(index))\n",
    "tight_layout()\n",
    "show()"
   ]
  },
  {
   "cell_type": "code",
   "execution_count": null,
   "metadata": {
    "collapsed": false,
    "slideshow": {
     "slide_type": "subslide"
    }
   },
   "outputs": [],
   "source": [
    "for i, index in enumerate(recordingNeurons):\n",
    "    subplot(3,1,i+1)\n",
    "    plot(u_vals.t / ms, u_vals.u[i] / mV, label = 'U')\n",
    "    plot(x_vals.t / ms, x_vals.x[i] / mV, label = 'X')\n",
    "    legend()\n",
    "\n",
    "tight_layout()\n",
    "show()"
   ]
  },
  {
   "cell_type": "markdown",
   "metadata": {
    "collapsed": true,
    "slideshow": {
     "slide_type": "subslide"
    }
   },
   "source": [
    "### Can you find when facilitating synapses change to depressing?"
   ]
  },
  {
   "cell_type": "markdown",
   "metadata": {
    "slideshow": {
     "slide_type": "slide"
    }
   },
   "source": [
    "## Population signal"
   ]
  },
  {
   "cell_type": "code",
   "execution_count": 1,
   "metadata": {
    "collapsed": false,
    "slideshow": {
     "slide_type": "slide"
    }
   },
   "outputs": [],
   "source": [
    "%matplotlib inline\n",
    "from brian2 import *\n",
    "\n",
    "avgPot = []\n",
    "## Number of input and output neurons\n",
    "N = 10\n",
    "F = 2 * Hz\n",
    "\n",
    "eqs = '''\n",
    "dpreVolt/dt=r : 1\n",
    "r : Hz\n",
    "'''\n",
    "poissonNeurons = PoissonGroup(N, rates=F)\n",
    "\n",
    "#store()\n",
    "#input_spikes = SpikeMonitor(poissonNeurons)\n",
    "#run(1000 * ms)\n",
    "#plot(input_spikes.t, input_spikes.i, '.k')\n",
    "#xlabel('Time (ms)')\n",
    "#ylabel('Neuron index')\n",
    "#show()\n",
    "#restore()"
   ]
  },
  {
   "cell_type": "code",
   "execution_count": 2,
   "metadata": {
    "collapsed": true,
    "slideshow": {
     "slide_type": "subslide"
    }
   },
   "outputs": [],
   "source": [
    "## Let us initialize variables for the output neurons.\n",
    "numOut = 1\n",
    "\n",
    "tau_e = 3 * ms # Decay current\n",
    "tau_m = 10 * ms # Decay of membrane potential\n",
    "Rm = 100 * Mohm # Membrane resistance\n",
    "\n",
    "eqs_neuron = '''\n",
    "dv/dt=(Rm*I-v)/tau_m:volt\n",
    "dI/dt=-I/tau_e:amp\n",
    "'''\n",
    "outputNeurons = NeuronGroup(numOut, model=eqs_neuron)"
   ]
  },
  {
   "cell_type": "code",
   "execution_count": 3,
   "metadata": {
    "collapsed": true,
    "slideshow": {
     "slide_type": "subslide"
    }
   },
   "outputs": [],
   "source": [
    "## Let's put synapses between these groups of neurons.\n",
    "\n",
    "A_SE = 250 * pA # Absolute synaptic efficacy\n",
    "\n",
    "taud=100*ms # Decay time synaptic depression\n",
    "tauf=3*ms # Decay time synaptic facilitation\n",
    "U=.1 # Release probability\n",
    "\n",
    "#taud=100*ms # Decay time synaptic depression\n",
    "#tauf=10*ms # Decay time synaptic facilitation\n",
    "#U=.6 # Release probability"
   ]
  },
  {
   "cell_type": "code",
   "execution_count": 4,
   "metadata": {
    "collapsed": false,
    "slideshow": {
     "slide_type": "subslide"
    }
   },
   "outputs": [],
   "source": [
    "S=Synapses(poissonNeurons, outputNeurons,\n",
    "           model='''w : amp\n",
    "                    dx/dt=(1-x)/taud : 1 (clock-driven)\n",
    "                    du/dt=(U-u)/tauf : 1 (clock-driven)\n",
    "                 ''',\n",
    "           on_pre=''' u+=U*(1-u)\n",
    "                  I+=w*u*x\n",
    "                  x-= x*u''')\n",
    "\n",
    "                  \n",
    "S.connect( 'j==0') # one to one connection\n",
    "S.w=A_SE # Initializing synaptic weights to absolute synaptic efficacy\n",
    "\n",
    "# Initialization of STP variables\n",
    "\n",
    "S.x = 1 # Fraction of resources that remain available after neurotransmitter depletion \n",
    "S.u = U # Fraction of available resources ready for use (release probability)"
   ]
  },
  {
   "cell_type": "code",
   "execution_count": 5,
   "metadata": {
    "collapsed": false,
    "slideshow": {
     "slide_type": "subslide"
    }
   },
   "outputs": [
    {
     "name": "stderr",
     "output_type": "stream",
     "text": [
      "INFO       No numerical integration method specified for group 'neurongroup', using method 'linear' (took 0.36s). [brian2.stateupdaters.base.method_choice]\n",
      "INFO       No numerical integration method specified for group 'synapses', using method 'linear' (took 0.27s). [brian2.stateupdaters.base.method_choice]\n"
     ]
    },
    {
     "data": {
      "image/png": "[encoded data removed]",
      "text/plain": [
       "<matplotlib.figure.Figure at 0x7f73bda19f50>"
      ]
     },
     "metadata": {},
     "output_type": "display_data"
    }
   ],
   "source": [
    "## Setting up monitors\n",
    "trace = StateMonitor(outputNeurons, 'v', record=[0])\n",
    "u_vals = StateMonitor(S, 'u', record=[0])\n",
    "x_vals = StateMonitor(S, 'x', record=[0])\n",
    "\n",
    "#monitors = [trace, u_vals, x_vals]\n",
    "#net = Network(collect())  # automatically include G and S\n",
    "#net.add(monitors)  # manually add the monitors\n",
    "\n",
    "run(10000 * ms)\n",
    "\n",
    "plot(trace.t/ms, trace.v[0] / mV)\n",
    "avgPot.append(np.average(trace.v[0]))\n",
    "title('Vm_' + str(numOut))\n",
    "tight_layout()\n",
    "show()"
   ]
  },
  {
   "cell_type": "code",
   "execution_count": 6,
   "metadata": {
    "collapsed": false
   },
   "outputs": [
    {
     "data": {
      "image/png": "[encoded data removed]",
      "text/plain": [
       "<matplotlib.figure.Figure at 0x7f73e14156d0>"
      ]
     },
     "metadata": {},
     "output_type": "display_data"
    }
   ],
   "source": [
    "plot(trace.t/ms, u_vals.u[0])\n",
    "plot(trace.t/ms, x_vals.x[0])\n",
    "title('Vm_' + str(numOut))\n",
    "tight_layout()\n",
    "show()"
   ]
  },
  {
   "cell_type": "markdown",
   "metadata": {
    "slideshow": {
     "slide_type": "slide"
    }
   },
   "source": [
    "### Input-frequency versus Average Post-synaptic voltage"
   ]
  },
  {
   "cell_type": "code",
   "execution_count": null,
   "metadata": {
    "collapsed": true,
    "slideshow": {
     "slide_type": "subslide"
    }
   },
   "outputs": [],
   "source": [
    "from brian2 import *\n",
    "\n",
    "avgPot = []\n",
    "x_arr = []\n",
    "freq_array = np.arange(1,100,5)\n",
    "for F in freq_array * Hz:\n",
    "    ## Number of input and output neurons\n",
    "    N = 500\n",
    "    #F = 2 * Hz\n",
    "    \n",
    "    eqs = '''\n",
    "    dpreVolt/dt=r : 1\n",
    "    r : Hz\n",
    "    '''\n",
    "    poissonNeurons = PoissonGroup(N, rates=F)\n",
    "    \n",
    "    ## Let us initialize variables for the output neurons.\n",
    "    numOut = 1\n",
    "    \n",
    "    tau_e = 3 * ms # Decay current\n",
    "    tau_m = 25 * ms # Decay of membrane potential\n",
    "    Rm = 100 * Mohm # Membrane resistance\n",
    "    \n",
    "    eqs_neuron = '''\n",
    "    dv/dt=(Rm*I-v)/tau_m:volt\n",
    "    dI/dt=-I/tau_e:amp\n",
    "    '''\n",
    "    outputNeurons = NeuronGroup(numOut, model=eqs_neuron)\n",
    "    \n",
    "    ## Let's put synapses between these groups of neurons.\n",
    "    \n",
    "    A_SE = 250 * pA # Absolute synaptic efficacy\n",
    "    \n",
    "    taud=700*ms # Decay time synaptic depression\n",
    "    tauf=3*ms # Decay time synaptic facilitation\n",
    "    U=.4 # Release probability\n",
    "    \n",
    "    #taud=100*ms # Decay time synaptic depression\n",
    "    #tauf=10*ms # Decay time synaptic facilitation\n",
    "    #U=.6 # Release probability\n",
    "    \n",
    "    S=Synapses(poissonNeurons, outputNeurons,\n",
    "               model='''w : amp\n",
    "                        dx/dt=(1-x)/taud : 1 (clock-driven)\n",
    "                        du/dt=(U-u)/tauf : 1 (clock-driven)\n",
    "                     ''',\n",
    "               on_pre='''u+=U*(1-u)\n",
    "                  I+=w*u*x\n",
    "                  x-= x*u''')\n",
    "    \n",
    "                      \n",
    "    S.connect( 'j==0') # one to one connection\n",
    "    S.w=A_SE # Initializing synaptic weights to absolute synaptic efficacy\n",
    "    \n",
    "    # Initialization of STP variables\n",
    "    \n",
    "    S.x = 1 # Fraction of resources that remain available after neurotransmitter depletion \n",
    "    S.u = U # Fraction of available resources ready for use (release probability)\n",
    "    \n",
    "    ## Setting up monitors\n",
    "    trace = StateMonitor(outputNeurons, 'v', record=[0])\n",
    "    u_vals = StateMonitor(S, 'u', record=[0])\n",
    "    x_vals = StateMonitor(S, 'x', record=[0])\n",
    "    \n",
    "    #monitors = [trace, u_vals, x_vals]\n",
    "    #net = Network(collect())  # automatically include G and S\n",
    "    #net.add(monitors)  # manually add the monitors\n",
    "    \n",
    "    run(1000 * ms)\n",
    "    \n",
    "    avgPot.append(np.average(trace.v[0]))\n",
    "    x_arr.append(np.average(x_vals.x[0]))\n",
    "    #plot(trace.t/ms, trace.v[0] / mV)\n",
    "    #title('Vm_' + str(numOut))\n",
    "    \n",
    "    #tight_layout()\n",
    "    #show()\n",
    "\n",
    "plt.plot(freq_array, avgPot, xlabel=\"Input Frequency\", ylabel=\"Average Voltage\")\n",
    "plt.show()"
   ]
  }
 ],
 "metadata": {
  "celltoolbar": "Slideshow",
  "kernelspec": {
   "display_name": "Python 2",
   "language": "python",
   "name": "python2"
  },
  "language_info": {
   "codemirror_mode": {
    "name": "ipython",
    "version": 2
   },
   "file_extension": ".py",
   "mimetype": "text/x-python",
   "name": "python",
   "nbconvert_exporter": "python",
   "pygments_lexer": "ipython2",
   "version": "2.7.6"
  }
 },
 "nbformat": 4,
 "nbformat_minor": 0
}
