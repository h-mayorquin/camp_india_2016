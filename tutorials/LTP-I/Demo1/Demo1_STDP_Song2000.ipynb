{
 "cells": [
  {
   "cell_type": "code",
   "execution_count": null,
   "metadata": {
    "collapsed": true
   },
   "outputs": [],
   "source": [
    "### Code written for STDP tutorial @ CAMP 2016\n",
    "### Adapted from Song et al 2000 (Competitive Hebbian Learning through spike-timing-dependent synaptic plasticity)\n",
    "### With independent Poisson inputs (relevant figures : Fig 2)\n",
    "\n",
    "### Author: Harsha Gurnani\n",
    "### Date: June 15, 2016\n",
    "#######################################\n",
    "\n",
    "\n",
    "from brian2 import *\n",
    "from time import time\n",
    "%matplotlib inline\n",
    "\n",
    "#### Simulation parameters ####\n",
    "simtime = 150 *second\n",
    "delta = 0.1*ms\n",
    "\n",
    "defaultclock.dt = delta\n"
   ]
  },
  {
   "cell_type": "markdown",
   "metadata": {},
   "source": [
    "###  Model Parameters"
   ]
  },
  {
   "cell_type": "code",
   "execution_count": null,
   "metadata": {
    "collapsed": true
   },
   "outputs": [],
   "source": [
    "### Neuron and synapses:\n",
    "#######################\n",
    "taum = 20*ms                # Membrane time constant\n",
    "Vrest = -70*mV              # Resting membrane potential\n",
    "Erev = 0*mV                 # Excitatory synapse - reversal potential\n",
    "Irev = -70*mV               # Inhibitory synapse - reversal potential\n",
    "taue = 5*ms                 # Excitatory time constants\n",
    "taui = 5*ms                 # Inhibitory time constants\n",
    "\n",
    "gmax = 0.015                #Max excitatory conductance //in unnits of leak conductance\n",
    "ginh = 0.05                 #Inhibitory conductance\n",
    "\n",
    "Vt = -54*mV                 # Spike threshold\n",
    "Vr = -60*mV                 # Reset potential\n"
   ]
  },
  {
   "cell_type": "code",
   "execution_count": null,
   "metadata": {
    "collapsed": true
   },
   "outputs": [],
   "source": [
    "#### How does no. of synapses/ ratio influence firing rates??\n",
    "Ne = 1000                   #No. of excitatory synapses\n",
    "Ni = 200                    #No. of ihibitory synapses\n",
    "\n",
    "# How does final distribution of weights depend on presynaptic firing rates? Why???\n",
    "FRe = 15*Hz                 #Firing rate (FR) for excitatory input\n",
    "FRi = 10*Hz                 #FR for inhibitory input\n"
   ]
  },
  {
   "cell_type": "code",
   "execution_count": null,
   "metadata": {
    "collapsed": false
   },
   "outputs": [],
   "source": [
    "### Neuron model\n",
    "################\n",
    "\n",
    "eqs = Equations('''\n",
    "\n",
    "    dV/dt = ( (Vrest - V) + ge*(Erev - V) + gi*(Irev - V) )/taum :volt\n",
    "    dge/dt = -ge/taue :1        #Conductance of exc synapse\n",
    "    dgi/dt = -gi/taui :1        #Conductance of inh synapse\n",
    "''')\n",
    "\n",
    "NRN = NeuronGroup(1, model=eqs, threshold = 'V>Vt', reset = 'V=Vr', method='euler')\n"
   ]
  },
  {
   "cell_type": "markdown",
   "metadata": {},
   "source": [
    "### Synapses and STDP"
   ]
  },
  {
   "cell_type": "code",
   "execution_count": null,
   "metadata": {
    "collapsed": true
   },
   "outputs": [],
   "source": [
    "## STDP parameters for excitatory synapses\n",
    "###########################################\n",
    "\n",
    "taupre = 20*ms          # Time constant of potentiation for pre-post pairing\n",
    "taupost = 20*ms         # Time constant of depression for post-pre pairing\n",
    "Weakratio = 1.05        # Apost*taupost/(Apre*taupre)\n",
    "                        # Depression:Potentiation ratio (slightly greater than 1 for stabilising network)\n",
    "Apre = 0.005            # %Strengthening with pre-post pair\n",
    "Apost = Apre*(taupre/taupost)*Weakratio\n"
   ]
  },
  {
   "cell_type": "code",
   "execution_count": null,
   "metadata": {
    "collapsed": true
   },
   "outputs": [],
   "source": [
    "### Excitatory Synapse Model:\n",
    "#############################\n",
    "\n",
    "'''\n",
    "Complete the code. Synapse has a synaptic weight (gsyn) and the variables x and y.\n",
    "Pre: What happens when a presynaptic spike arrives at the synapse? (Depression)\n",
    "Post: What happens when the postsynaptic cell spikes? (Potentiation)\n",
    "'''\n",
    "syneqs = '''\n",
    "    gsyn    :1\n",
    "    dx/dt = ??? :1    (event-driven)\n",
    "    dy/dt = ??? :1   (event-driven)\n",
    "    '''\n",
    "\n",
    "preeqs = '''\n",
    "    ???\n",
    "    '''\n",
    "\n",
    "posteqs = '''\n",
    "    ???\n",
    "    '''"
   ]
  },
  {
   "cell_type": "code",
   "execution_count": null,
   "metadata": {
    "collapsed": true
   },
   "outputs": [],
   "source": [
    "### Poisson Input at Excitatory synapses, at firing rate FRe\n",
    "InpE = PoissonGroup(Ne, rates = FRe)\n",
    "\n",
    "S_exc = Synapses(InpE, NRN, model=syneqs, on_pre=preeqs, on_post=posteqs )\n",
    "S_exc.connect()                     # Connect all\n",
    "S_exc.gsyn[:] = gmax*rand(Ne)       # Initialise uniformly between 0 and gmax"
   ]
  },
  {
   "cell_type": "code",
   "execution_count": null,
   "metadata": {
    "collapsed": true
   },
   "outputs": [],
   "source": [
    "### Inhibitory synapses:\n",
    "InpI = PoissonGroup(Ni, rates = FRi)\n",
    "\n",
    "# Constant inhibitory conductance = ginh\n",
    "S_inh = Synapses(InpI, NRN, model = ' ', on_pre = '''gi_post += ginh''')\n",
    "S_inh.connect()"
   ]
  },
  {
   "cell_type": "markdown",
   "metadata": {},
   "source": [
    "### Monitors and run"
   ]
  },
  {
   "cell_type": "code",
   "execution_count": null,
   "metadata": {
    "collapsed": false
   },
   "outputs": [],
   "source": [
    "VMon = StateMonitor( NRN, 'V', record = 0 )                 ## Membrane potential\n",
    "FR = PopulationRateMonitor(NRN)                             ## Firing rate of NRN\n",
    "\n",
    "###Monitor weight: Put in appropriate variable\n",
    "Weights = StateMonitor( S_exc, '???', record = [0,Ne-1])   ## Two example synaptic weights\n",
    "\n",
    "run( simtime, report='text')"
   ]
  },
  {
   "cell_type": "code",
   "execution_count": null,
   "metadata": {
    "collapsed": false
   },
   "outputs": [],
   "source": [
    "figure(figsize=([13,8]))\n",
    "### Histogram of sinal synaptic weights\n",
    "\n",
    "### Finish with appropriate variables:\n",
    "###Synaptic weight histogram\n",
    "subplot(211)\n",
    "hist(S_exc.???[:] /gmax, 20)\n",
    "ylabel('No. of synapses')\n",
    "xlabel('Normalised synaptic weight')\n",
    "\n",
    "### Initial membrane potential trace\n",
    "subplot(223)\n",
    "plot(VMon.t[0:3000] /second, VMon.V[0,0:3000] /mV)\n",
    "ylim([-80,-40])\n",
    "ylabel('Membrane potential (mV)')\n",
    "legend('Initial V')\n",
    "\n",
    "### Final membrane potential trace\n",
    "subplot(224)\n",
    "plot(VMon.t[-3000:-1] /second, VMon.V[0,-3000:-1] /mV)\n",
    "ylim([-80,-40])\n",
    "legend('Final V')\n"
   ]
  },
  {
   "cell_type": "code",
   "execution_count": null,
   "metadata": {
    "collapsed": false
   },
   "outputs": [],
   "source": [
    "figure(figsize=([12,8]))\n",
    "### Evolution of Firing rate in time\n",
    "subplot(211)\n",
    "plot(FR.t /second, FR.smooth_rate(window='gaussian', width=100*ms)/Hz)\n",
    "ylabel('Firing rate (Hz)')\n",
    "\n",
    "### Evolution of two example synaptic weights\n",
    "subplot(212)\n",
    "plot(Weights.t /second, Weights.gsyn[0,:], 'b', label='Synapse 1')\n",
    "plot(Weights.t /second, Weights.gsyn[1,:], 'g', label='Synapse N')\n",
    "xlabel('Time (second)')\n",
    "ylabel('Synaptic weight')\n",
    "\n",
    "tight_layout()\n"
   ]
  },
  {
   "cell_type": "code",
   "execution_count": null,
   "metadata": {
    "collapsed": true
   },
   "outputs": [],
   "source": []
  }
 ],
 "metadata": {
  "kernelspec": {
   "display_name": "Python 2",
   "language": "python",
   "name": "python2"
  },
  "language_info": {
   "codemirror_mode": {
    "name": "ipython",
    "version": 2
   },
   "file_extension": ".py",
   "mimetype": "text/x-python",
   "name": "python",
   "nbconvert_exporter": "python",
   "pygments_lexer": "ipython2",
   "version": "2.7.6"
  }
 },
 "nbformat": 4,
 "nbformat_minor": 0
}
