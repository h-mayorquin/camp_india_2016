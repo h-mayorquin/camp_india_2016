{
 "cells": [
  {
   "cell_type": "code",
   "execution_count": null,
   "metadata": {
    "collapsed": true
   },
   "outputs": [],
   "source": [
    "### Written for CAMP 2016 tutorial\n",
    "### Adapted from Vogels 2011\n",
    "### Author: Harsha Gurnani\n",
    "### Date: June 18, 2016\n",
    "\n",
    "#####################################"
   ]
  },
  {
   "cell_type": "code",
   "execution_count": null,
   "metadata": {
    "collapsed": true
   },
   "outputs": [],
   "source": [
    "from brian2 import *\n",
    "from time import time\n",
    "\n",
    "from numpy import *\n",
    "from scipy import *\n",
    "from inputsignals import *\n",
    "from spikegen import *\n",
    "\n",
    "from inputsignals import *\n",
    "%matplotlib inline\n",
    "#set_device('cpp_standalone')\n",
    "\n",
    "### Simulation parameters\n",
    "simtime = 10*second\n",
    "delta = 0.1*ms\n",
    "tlen = int(simtime/delta)\n",
    "\n",
    "defaultclock.dt = delta"
   ]
  },
  {
   "cell_type": "markdown",
   "metadata": {},
   "source": [
    "###  Model Parameters"
   ]
  },
  {
   "cell_type": "code",
   "execution_count": null,
   "metadata": {
    "collapsed": true
   },
   "outputs": [],
   "source": [
    "### LIF neuron\n",
    "taum = 20*ms                \t#Mem time constant\n",
    "Vrest = Vr = -60*mV         \t#Rest and reset voltage\n",
    "Vt = -50*mV                 \t#Spiking threshold\n",
    "taur = 5*ms                 \t#Refractory period\n",
    "Rm = 100*Mohm               \t#Membrane resistance\n",
    "gleak = 10*nsiemens         \t#Leak conductance = 1/Rm"
   ]
  },
  {
   "cell_type": "code",
   "execution_count": null,
   "metadata": {
    "collapsed": true
   },
   "outputs": [],
   "source": [
    "### Synaptic parameters\n",
    "gmax = 5*140*psiemens         \t#For AMPAr\n",
    "ginh = 350*psiemens         \t#For GABAr\n",
    "Ve = 0*mV                   \t#AMPAr reversal\n",
    "Vi = -80*mV                 \t#GABAr reversal\n",
    "taue = 5*ms                 \t#AMPAr timeconstant\n",
    "taui = 10*ms                \t#GABAr timeconstant\n",
    "Ib = 0*pamp                 \t#Baseline current \n",
    "\n",
    "TotalN = 1000               \t#Total no. of synapses\n",
    "Ne = int(0.8*TotalN)        \t#No. of exc. synapses = 80% of Total\n",
    "Ni = int(0.2*TotalN)        \t#No. of inh synapses = 20% of Total\n",
    "ngr = 8                     \t#No. of groups/signals"
   ]
  },
  {
   "cell_type": "code",
   "execution_count": null,
   "metadata": {
    "collapsed": true
   },
   "outputs": [],
   "source": [
    "### STDP parameters\n",
    "tau_STDP = 20*ms\n",
    "eta = 0.0001                #Learning rate\n",
    "rho0 = 5*Hz\n",
    "alpha = 2*rho0*tau_STDP     #Depression factor\n",
    "\n",
    "## nsiemens unit cannot be used inside equations block. hence will use gw to divide conductances to\n",
    "## make them unitless.\n",
    "gw = 1*nsiemens"
   ]
  },
  {
   "cell_type": "code",
   "execution_count": null,
   "metadata": {
    "collapsed": true
   },
   "outputs": [],
   "source": [
    "### Neuron model\n",
    "eqs = Equations('''\n",
    "    dV/dt = ((Vrest - V) + 1/gleak*( gw*ge*(Ve-V) +gw*gi*(Vi-V) + Ib ))/taum :volt\n",
    "    dge/dt = -ge/taue : 1\n",
    "    dgi/dt = -gi/taui :1\n",
    "    dx/dt = -x/tau_STDP :1\n",
    "    ie = ge*(Vi-V) :volt\n",
    "    ii = gi* (Ve-V) :volt\n",
    "''')\n",
    "\n",
    "G = NeuronGroup(1, model=eqs, threshold='V>Vt', reset='V=Vrest; x+= 1', refractory=taur, method='euler')"
   ]
  },
  {
   "cell_type": "markdown",
   "metadata": {},
   "source": [
    "### Synaptic dynamics"
   ]
  },
  {
   "cell_type": "code",
   "execution_count": null,
   "metadata": {
    "collapsed": true
   },
   "outputs": [],
   "source": [
    "## Generate 8 different input signals for 8 groups of synapses:\n",
    "\n",
    "#####\n",
    "### Artificial Neuron Group:\n",
    "###This procedure was executed by CreateInputSpikeTrains.py\n",
    "### Run that file again to generate new signals. Or uncomment the following and then comment the next line.\n",
    "# InpSignals = GenerateInputSignalForGroup( ngr, arange(0,simtime/delta,delta), delta)\n",
    "#####\n",
    "\n",
    "InpSignals = np.load('inputs.npy')\n",
    "s1=TimedArray(InpSignals.transpose(),dt=delta)"
   ]
  },
  {
   "cell_type": "code",
   "execution_count": null,
   "metadata": {
    "collapsed": false
   },
   "outputs": [],
   "source": [
    "## Excitatory synapses\n",
    "\n",
    "##Presynaptic firing:\n",
    "exceq = '''\n",
    "    rate1 = s1(t,i/ngr) :1\n",
    "    '''\n",
    "Exc_Inp = NeuronGroup(Ne, exceq, threshold='rand()<rate1')\n",
    "\n",
    "## Synapse model\n",
    "syne_eqs = '''\n",
    "    We :1\n",
    "    '''\n",
    "preeqns = '''\n",
    "    ge_post += We*gmax/gw\n",
    "    '''\n",
    "\n",
    "AMPA = Synapses( Exc_Inp, G, model=syne_eqs, on_pre=preeqns )\n",
    "AMPA.connect()\n",
    "\n",
    "## Different synaptic weights for different groups\n",
    "##Seting excitatory weights : Different for each group\n",
    "P = int(ngr/2)+0.1\n",
    "maxw = 2.2\n",
    "Negrp = int(Ne/ngr)\n",
    "minw = 0.3\n",
    "for ii in range(Ne):\n",
    "    grp = int(ii/Negrp)\n",
    "    AMPA.We[ii] = min(minw + maxw/(1.0+(grp-P))**4 ,0.6)+ 0.1*rand()\n",
    "\n",
    " "
   ]
  },
  {
   "cell_type": "code",
   "execution_count": null,
   "metadata": {
    "collapsed": true
   },
   "outputs": [],
   "source": [
    "### Inhibitory synapses:\n",
    "\n",
    "\n",
    "inheq = '''\n",
    "    rate2 = s1(t,i/ngr) :1\n",
    "    '''\n",
    "Inh_Inp = NeuronGroup(Ni, inheq, threshold='rand()<rate2')\n",
    "\n",
    "'''\n",
    "Complete the code. Synapse has presynaptic trace. Postsynaptic trace in Neuron model eqn (check above.)\n",
    "Presynaptic spike: What happens?\n",
    "Postsynaptic spike: What happens?\n",
    "'''\n",
    "syni_eqs = '''\n",
    "    Wi :1\n",
    "    ???\n",
    "    '''\n",
    "syni_pre = '''\n",
    "    ???\n",
    " '''   \n",
    "syni_post = '''\n",
    "    ???\n",
    " '''\n",
    "\n",
    " \n",
    "#Synapse:\n",
    "GABA = Synapses( Inh_Inp, G, model=syni_eqs, on_pre=syni_pre, on_post=syni_post )\n",
    "GABA.connect()\n",
    "Nigrp = int(Ni/ngr)\n",
    "GABA.Wi[:] = 0.1"
   ]
  },
  {
   "cell_type": "markdown",
   "metadata": {},
   "source": [
    "### Monitors and Run"
   ]
  },
  {
   "cell_type": "code",
   "execution_count": null,
   "metadata": {
    "collapsed": false
   },
   "outputs": [],
   "source": [
    "SpE= SpikeMonitor(Exc_Inp)\n",
    "SpI= SpikeMonitor(Inh_Inp)\n",
    "CellSpk= SpikeMonitor(G)\n",
    "\n",
    "ExcCurrent = StateMonitor(G, 'ie', record=True)\n",
    "InhCurrent = StateMonitor(G, 'ii', record=True)\n",
    "\n",
    "ExcWt = StateMonitor(AMPA,'We', record=[0,Ne/2, Ne-1])\n",
    "InhWt = StateMonitor(GABA,'Wi', record=[0,Ni/2, Ni-1])\n",
    "\n",
    "## Run\n",
    "run(simtime, report='text')\n",
    "\n",
    "### Net Current:\n",
    "DiffCurrent = ExcCurrent.ie + InhCurrent.ii"
   ]
  },
  {
   "cell_type": "markdown",
   "metadata": {},
   "source": [
    "### Plotting"
   ]
  },
  {
   "cell_type": "code",
   "execution_count": null,
   "metadata": {
    "collapsed": false
   },
   "outputs": [],
   "source": [
    "### Raster plot for exc and inh \"cells\", amd postsynaptic cell\n",
    "\n",
    "figure(figsize=[15,8])\n",
    "subplot(311)\n",
    "plot(SpE.t/second, SpE.i, '|', label='Excitatory synapse spike times')\n",
    "legend()\n",
    "subplot(312)\n",
    "plot(SpI.t/second, SpI.i, '|', label='Inhibitory synapse spike times')\n",
    "legend()\n",
    "subplot(313)\n",
    "plot(CellSpk.t/second, CellSpk.i, '|', label='Postsynaptic cell spike times')\n",
    "legend()\n"
   ]
  },
  {
   "cell_type": "code",
   "execution_count": null,
   "metadata": {
    "collapsed": false
   },
   "outputs": [],
   "source": [
    "### Initial synaptic currents:\n",
    "figure(figsize=[10,6])\n",
    "plot(range(10000)*delta/second, ExcCurrent.ie[0,2000:12000]/mV, 'g', linewidth=1.5,label='AMPAr current')\n",
    "plot(range(10000)*delta/second, InhCurrent.ii[0,2000:12000]/mV, 'r', linewidth=1.5,label='GABAr current')\n",
    "plot(range(10000)*delta/second, DiffCurrent[0,2000:12000]/mV, 'k', linewidth=1.5,label='Net synaptic current')\n",
    "title('Synaptic currents in the beginning')\n",
    "legend()\n"
   ]
  },
  {
   "cell_type": "code",
   "execution_count": null,
   "metadata": {
    "collapsed": false
   },
   "outputs": [],
   "source": [
    "maxt=int(simtime/ms)\n",
    "### Final synaptic currents:maxt=int(simtime/ms)\n",
    "figure(figsize=[10,6])\n",
    "plot(range(maxt-10000,maxt)*delta/second, ExcCurrent.ie[0,-10000:]/mV,'g', linewidth=1.5)\n",
    "plot(range(maxt-10000,maxt)*delta/second, InhCurrent.ii[0,-10000:]/mV, 'r',linewidth=1.5)\n",
    "plot(range(maxt-10000,maxt)*delta/second, DiffCurrent[0,-10000:]/mV, 'k',linewidth=1.5)\n",
    "title('Synaptic currents at the end')\n"
   ]
  },
  {
   "cell_type": "code",
   "execution_count": null,
   "metadata": {
    "collapsed": true
   },
   "outputs": [],
   "source": []
  }
 ],
 "metadata": {
  "kernelspec": {
   "display_name": "Python 2",
   "language": "python",
   "name": "python2"
  },
  "language_info": {
   "codemirror_mode": {
    "name": "ipython",
    "version": 2
   },
   "file_extension": ".py",
   "mimetype": "text/x-python",
   "name": "python",
   "nbconvert_exporter": "python",
   "pygments_lexer": "ipython2",
   "version": "2.7.6"
  }
 },
 "nbformat": 4,
 "nbformat_minor": 0
}
