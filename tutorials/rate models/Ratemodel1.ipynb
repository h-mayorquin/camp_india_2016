{
 "cells": [
  {
   "cell_type": "code",
   "execution_count": 1,
   "metadata": {
    "collapsed": false
   },
   "outputs": [],
   "source": [
    "%matplotlib inline\n",
    "import math\n",
    "from scipy.integrate import odeint\n",
    "import numpy as np\n",
    "import matplotlib.pyplot as plt\n",
    "from  sklearn.decomposition import PCA"
   ]
  },
  {
   "cell_type": "markdown",
   "metadata": {},
   "source": [
    "## Rate models\n",
    "\n",
    "We first start with a simple ratemodel of a neuron.\n",
    "\n",
    "$ \\tau \\dot{w} = -w + i $ where $i$ is input"
   ]
  },
  {
   "cell_type": "code",
   "execution_count": 2,
   "metadata": {
    "collapsed": false
   },
   "outputs": [
    {
     "data": {
      "image/png": "[encoded data removed]",
      "text/plain": [
       "<matplotlib.figure.Figure at 0x7ff56ac73710>"
      ]
     },
     "metadata": {},
     "output_type": "display_data"
    }
   ],
   "source": [
    "def eqs(y,t):\n",
    "    tau=10\n",
    "    dydt=(-y  + I(t))/tau\n",
    "    return dydt\n",
    "\n",
    "# def I(t):\n",
    "#     return 0.1\n",
    "\n",
    "# def I(t):\n",
    "#     if t>500 and t<700:\n",
    "#         return 0.1\n",
    "#     return 0\n",
    "\n",
    "def I(t):\n",
    "    T=200\n",
    "    return 0.1*np.sin(2*np.pi*t/T)+0.1\n",
    "\n",
    "\n",
    "y0=[0.3]\n",
    "tmax=0.5\n",
    "t = np.linspace(0, tmax*1000, tmax*1000+1)\n",
    "sol = odeint(eqs, y0, t , hmax=1)\n",
    "plt.plot(t, sol[:, 0], 'b',label=\"Output\")\n",
    "plt.plot(t, map(I,t), 'r',label=\"Input\")\n",
    "plt.legend(loc='best')\n",
    "plt.xlabel('t')\n",
    "plt.grid()\n",
    "plt.show()\n"
   ]
  },
  {
   "cell_type": "markdown",
   "metadata": {},
   "source": [
    "Lets make a neuron with an autoapse, a synapse with itself\n",
    "\n",
    "$ \\tau \\dot{y} = -y + Wy + i $"
   ]
  },
  {
   "cell_type": "markdown",
   "metadata": {},
   "source": [
    "1. Play with the W value to find what the behaviour is for different W. What point does the behaviour change? \n",
    "2. How does the neuron respond to different input values.\n"
   ]
  },
  {
   "cell_type": "code",
   "execution_count": 3,
   "metadata": {
    "collapsed": false,
    "scrolled": true
   },
   "outputs": [
    {
     "data": {
      "image/png": "[encoded data removed]",
      "text/plain": [
       "<matplotlib.figure.Figure at 0x7ff567f67350>"
      ]
     },
     "metadata": {},
     "output_type": "display_data"
    }
   ],
   "source": [
    "def eqs(y,t):\n",
    "    tau=5\n",
    "    W=1.\n",
    "    dydt=(-y  + W * y + I(t))/tau\n",
    "    return dydt\n",
    "\n",
    "def I(t):\n",
    "    return 0\n",
    "\n",
    "# def I(t):\n",
    "#     if t>500 and t<700:\n",
    "#         return 0.1\n",
    "#     return 0\n",
    "\n",
    "# def I(t):\n",
    "#     T=200\n",
    "#     return 0.1*np.sin(2*np.pi*t/T) +0.1\n",
    "\n",
    "\n",
    "y0=[2]\n",
    "tmax=1\n",
    "t = np.linspace(0, tmax*1000, tmax*1000+1)\n",
    "sol = odeint(eqs, y0, t , hmax=1)\n",
    "plt.plot(t, sol[:, 0], 'b',label=\"Output\")\n",
    "plt.plot(t, map(I,t), 'r',label=\"Input\")\n",
    "plt.legend(loc='best')\n",
    "plt.xlabel('t')\n",
    "plt.grid()\n",
    "plt.show()\n"
   ]
  },
  {
   "cell_type": "markdown",
   "metadata": {},
   "source": [
    "## Mutually Inhibitory Pair\n",
    "\n",
    "$ \\tau \\dot{x_1} = -\\bar{x_1} - \\beta x_2 +b_1  $\n",
    "\n",
    "$ \\tau \\dot{x_2} = -\\bar{x_2} - \\beta x_1 +b_2  $\n",
    "\n",
    "which can be written in the vector form as:\n",
    "\n",
    "$ \\tau \\dot{\\bar{y}} = -\\bar{y} + W\\bar{y} + \\bar{b} $\n",
    "\n",
    "\n",
    "See the effect of changing beta and b\n"
   ]
  },
  {
   "cell_type": "code",
   "execution_count": null,
   "metadata": {
    "collapsed": false
   },
   "outputs": [],
   "source": [
    "def eqs(y,t):\n",
    "    tau=np.array([2,4])\n",
    "    b=np.array([0.2,0.1])\n",
    "    beta=0.5\n",
    "    W=np.array([[0, -beta],[-beta,0]])\n",
    "    dydt=(-y +  W.dot(y) + b)/tau \n",
    "    return dydt\n",
    "\n",
    "y0=np.array([0.1,0.3])\n",
    "# t = np.linspace(0, 20, 1001)\n",
    "tmax=0.1\n",
    "t = np.linspace(0, tmax*1000, tmax*1000+1)\n",
    "\n",
    "sol = odeint(eqs, y0, t, hmax=1)\n",
    "plt.plot(t, sol[:, 0], 'b') #x1\n",
    "plt.plot(t, sol[:, 1], 'g') #x2\n",
    "plt.show()"
   ]
  },
  {
   "cell_type": "markdown",
   "metadata": {},
   "source": [
    "Transforming \n",
    "\n",
    "$z_1=x_1+x_2$ \n",
    "and \n",
    "$z_2=x_1-x_2$ \n",
    "\n",
    "we get \n",
    "\n",
    "$ \\tau \\dot{z_1} = -\\bar{z_1} - \\beta z_1 + (b_1+b_2)  $\n",
    "\n",
    "$ \\tau \\dot{z_2} = -\\bar{z_2} + \\beta z_2 + (b_1-b_2)  $"
   ]
  },
  {
   "cell_type": "code",
   "execution_count": null,
   "metadata": {
    "collapsed": false,
    "scrolled": false
   },
   "outputs": [],
   "source": [
    "plt.plot(t, sol[:, 0] + sol[:, 1], 'b') #x1+x2\n",
    "plt.plot(t, sol[:, 0] - sol[:, 1], 'g') #x1-x2\n",
    "plt.show() "
   ]
  },
  {
   "cell_type": "code",
   "execution_count": null,
   "metadata": {
    "collapsed": false,
    "scrolled": true
   },
   "outputs": [],
   "source": [
    "# The Wilson-Cowan Model\n",
    "# Set the fixed parameters\n",
    "global a,b,c,d,q,p\n",
    "a=15\n",
    "b=18\n",
    "c=16\n",
    "d=15\n",
    "# the wilson-cowan equations\n",
    "\n",
    "\n",
    "def eqs(y,t):\n",
    "    E,I=y\n",
    "    E_prime=-E+f(a*E-b*I+p(t))\n",
    "    I_prime=-I+f(c*E-d*I+q(t))\n",
    "    dydt=[E_prime,I_prime]\n",
    "    return dydt\n",
    "\n",
    "def f(x):\n",
    "    if x>0:\n",
    "        return x\n",
    "#         return np.tanh(x)\n",
    "    return 0\n",
    "    \n",
    "\n",
    "p = lambda t : 10\n",
    "q = lambda t : 5 \n",
    "\n",
    "y0=[0.2,0.9]\n",
    "t = np.linspace(0, 10, 1001)\n",
    "sol = odeint(eqs, y0, t)\n",
    "\n",
    "import matplotlib.pyplot as plt\n",
    "plt.plot(t, sol[:, 0], 'b', label='E')\n",
    "plt.plot(t, sol[:, 1], 'g', label='I')\n",
    "plt.legend(loc='best')\n",
    "plt.xlabel('t')\n",
    "plt.grid()\n",
    "plt.show()"
   ]
  },
  {
   "cell_type": "markdown",
   "metadata": {},
   "source": [
    "## Misha's paper\n",
    "\n",
    "\n",
    "Paradoxical Effects of External Modulation of Inhibitory Interneurons\n",
    "Misha V. Tsodyks, William E. Skaggs, Terrence J. Sejnowski, and Bruce L. McNaughton \n",
    "\n",
    "Try to change the parameters: tau s and J to see what happens.\n",
    "\n",
    "\n",
    "\n",
    "Look for the effect : \"changes in external input to inhibitory interneurons can cause their activity to be modulated in the direction opposite to the change in the input if the intrinsic excitatory connections are sufficiently strong.\""
   ]
  },
  {
   "cell_type": "code",
   "execution_count": null,
   "metadata": {
    "collapsed": true
   },
   "outputs": [],
   "source": [
    "def eqs(y,t):\n",
    "    tau_e=20.0\n",
    "    tau_i=10.0\n",
    "    Jee=40.0\n",
    "    Jei=25.0\n",
    "    Jie=30.0\n",
    "    Jii=15.0\n",
    "    E,I = y\n",
    "    dEdt = (-E+g_e(Jee *E - Jei * I + e(t)))/tau_e\n",
    "    dIdt = (-I+g_i(Jie *E - Jii * I + i(t)))/tau_i\n",
    "    dydt=[dEdt, dIdt]\n",
    "    return dydt\n",
    "\n",
    "T=120\n",
    "def e(t):\n",
    "    return 0.1\n",
    "def i(t):\n",
    "    return 0.1*np.sin(2*np.pi*t/T)\n",
    "def g_e(x):\n",
    "    if x>0:\n",
    "        return np.tanh(x)\n",
    "    return 0\n",
    "def g_i(x):\n",
    "    if x>0:\n",
    "        return np.tanh(x)\n",
    "    return 0\n",
    "\n",
    "\n",
    "y0=np.array([0.,0.])\n",
    "tmax=0.5\n",
    "t = np.linspace(0, tmax*1000, tmax*1000+1)\n",
    "sol = odeint(eqs, y0, t)"
   ]
  },
  {
   "cell_type": "code",
   "execution_count": null,
   "metadata": {
    "collapsed": false,
    "scrolled": true
   },
   "outputs": [],
   "source": [
    "f, axarr = plt.subplots(2, sharex=True,figsize=(8,8))\n",
    "axarr[0].plot(t, sol[:, 0], 'b')\n",
    "axarr[0].plot(t, sol[:, 1], 'g')\n",
    "axarr[1].plot(t, i(t)*0.1, 'r')\n",
    "plt.show()"
   ]
  },
  {
   "cell_type": "markdown",
   "metadata": {},
   "source": [
    "## Network\n",
    "$ \\tau \\dot{\\bar{r}} = -\\bar{r} + W\\bar{r} + \\bar{i} $"
   ]
  },
  {
   "cell_type": "markdown",
   "metadata": {},
   "source": [
    "In the code below try to see:\n",
    "\n",
    "0. Change n_components in the PCA at 0.95 (find all the components which explain 95% of the variance)\n",
    "1. Effect of changing N\n",
    "2. Effect of changing of changing syn_stregth\n",
    "3. Effect of changing of changing input strength\n",
    "4. Effect of changing tau\n",
    "5. Effect of changing T\n",
    "\n",
    "\n",
    "\n",
    "Bonus: Compare the eigenvectors of W with the Princpal companents returned by PCA\n",
    "Bonus 2: effect off changing the random matrix from gaussian to something else"
   ]
  },
  {
   "cell_type": "code",
   "execution_count": null,
   "metadata": {
    "collapsed": true
   },
   "outputs": [],
   "source": [
    "N=200\n",
    "syn_strength=0.1\n",
    "input_strength=0.01\n",
    "W=np.random.randn(N,N)/N + 1.0/N*(syn_strength)\n",
    "b=np.random.rand(N)*input_strength\n",
    "tau=np.random.rand(N)*10\n",
    "T=100\n",
    "def eqs(y,t):\n",
    "    dydt=(-y +  W.dot(y) + I(t))/tau \n",
    "    return dydt\n",
    "\n",
    "\n",
    "def I(t):\n",
    "    return  b*np.sin(2*np.pi*t/T)/N"
   ]
  },
  {
   "cell_type": "code",
   "execution_count": null,
   "metadata": {
    "collapsed": false,
    "scrolled": true
   },
   "outputs": [],
   "source": [
    "plt.figure(figsize=[15,15])\n",
    "v=np.max(np.abs(W).flatten())\n",
    "plt.imshow(W,interpolation='none',cmap='coolwarm', vmin=-v, vmax=v)\n",
    "plt.colorbar()\n",
    "plt.show()"
   ]
  },
  {
   "cell_type": "code",
   "execution_count": null,
   "metadata": {
    "collapsed": false
   },
   "outputs": [],
   "source": [
    "y0=np.random.rand(N)\n",
    "tmax=0.4\n",
    "t = np.linspace(0, tmax*1000, tmax*1000+1)\n",
    "\n",
    "sol = odeint(eqs, y0, t, hmax=1)\n",
    "plt.plot(t, sol,) #x1\n",
    "plt.show()\n",
    "\n",
    "pca=PCA(n_components=N)\n",
    "sol_pca=pca.fit_transform(sol)\n",
    "\n",
    "plt.plot(t, sol_pca, ) #x1\n",
    "plt.show()\n",
    "\n",
    "plt.imshow(np.abs(sol_pca.T[0:10,:]),aspect=10,interpolation='none') #x1\n",
    "plt.colorbar()\n",
    "# plt.plot(t, sol[:, 1], 'g') #x2\n",
    "plt.show()"
   ]
  },
  {
   "cell_type": "markdown",
   "metadata": {},
   "source": [
    "### Now lets make the connectivity matrix sparse to emulate more realistic networks.\n",
    "\n",
    "Check the effect of changing sparsity parameter."
   ]
  },
  {
   "cell_type": "code",
   "execution_count": null,
   "metadata": {
    "collapsed": false
   },
   "outputs": [],
   "source": [
    "N=200\n",
    "syn_strength=-0.01\n",
    "input_strength=0.01\n",
    "sparsity=0.1\n",
    "W=(np.random.randn(N,N)/N + 1.0/N*(syn_strength))*(np.random.random([N,N])<sparsity)\n",
    "b=np.random.rand(N)*input_strength\n",
    "tau=np.random.rand(N)*20\n",
    "T=100\n",
    "def eqs(y,t):\n",
    "    dydt=(-y +  W.dot(y) + I(t))/tau \n",
    "    return dydt\n",
    "\n",
    "\n",
    "def I(t):\n",
    "    return  b*np.sin(2*np.pi*t/T)/N\n",
    "\n",
    "\n",
    "y0=np.random.rand(N)\n",
    "tmax=0.1\n",
    "t = np.linspace(0, tmax*1000, tmax*1000+1)\n",
    "\n",
    "sol = odeint(eqs, y0, t, hmax=1)\n",
    "plt.plot(t, sol,) #x1\n",
    "plt.show()\n",
    "\n",
    "pca=PCA()\n",
    "sol_pca=pca.fit_transform(sol)\n",
    "\n",
    "plt.plot(t, sol_pca, ) #x1\n",
    "plt.show()\n",
    "\n",
    "plt.imshow(np.abs(sol_pca.T[0:10,:]),aspect=10,interpolation='none') #x1\n",
    "plt.colorbar()\n",
    "# plt.plot(t, sol[:, 1], 'g') #x2\n",
    "plt.show()\n",
    "\n",
    "plt.figure(figsize=[20,20])\n",
    "v=np.max(np.abs(W).flatten())\n",
    "plt.imshow(W,interpolation='none',cmap='coolwarm', vmin=-v, vmax=v)\n",
    "plt.colorbar()\n",
    "plt.show()"
   ]
  },
  {
   "cell_type": "markdown",
   "metadata": {},
   "source": [
    "## Now lets make the spilt of the neurons into excitatory and inhibitory neurons explicit."
   ]
  },
  {
   "cell_type": "code",
   "execution_count": null,
   "metadata": {
    "collapsed": false
   },
   "outputs": [],
   "source": [
    "N=200\n",
    "syn_strength=0.1\n",
    "input_strength=0.01\n",
    "sparsity=0.1\n",
    "W=(np.random.randn(N,N)/N + 1.0/N*(syn_strength))*(np.random.random([N,N])<sparsity)\n",
    "e_frac=0.8\n",
    "for i,row in enumerate(W):\n",
    "    W[i,:]=np.abs(row)*((np.random.rand()<e_frac)*2-1)\n",
    "    \n",
    "# W=W.T\n",
    "b=np.random.rand(N)*input_strength\n",
    "tau=np.random.rand(N)*20\n",
    "T=100\n",
    "def eqs(y,t):\n",
    "    dydt=(-y +  W.dot(y) + I(t))/tau \n",
    "    return dydt\n",
    "\n",
    "\n",
    "def I(t):\n",
    "    return  b*np.sin(2*np.pi*t/T)/N\n",
    "\n",
    "\n",
    "y0=np.random.rand(N)\n",
    "tmax=0.1\n",
    "t = np.linspace(0, tmax*1000, tmax*1000+1)\n",
    "\n",
    "sol = odeint(eqs, y0, t, hmax=1)\n",
    "plt.plot(t, sol,) #x1\n",
    "plt.show()\n",
    "\n",
    "pca=PCA()\n",
    "sol_pca=pca.fit_transform(sol)\n",
    "\n",
    "plt.plot(t, sol_pca, ) #x1\n",
    "plt.show()\n",
    "\n",
    "plt.imshow(np.abs(sol_pca.T[0:10,:]),aspect=10,interpolation='none') #x1\n",
    "plt.colorbar()\n",
    "# plt.plot(t, sol[:, 1], 'g') #x2\n",
    "plt.show()\n",
    "\n",
    "plt.figure(figsize=[20,20])\n",
    "v=np.max(np.abs(W).flatten())\n",
    "plt.imshow(W,interpolation='none',cmap='coolwarm', vmin=-v, vmax=v)\n",
    "plt.colorbar()\n",
    "plt.show()"
   ]
  },
  {
   "cell_type": "markdown",
   "metadata": {},
   "source": [
    "## Lets add a thresholding function to ensure the firing rate of neurons isn't negative"
   ]
  },
  {
   "cell_type": "code",
   "execution_count": null,
   "metadata": {
    "collapsed": false
   },
   "outputs": [],
   "source": [
    "N=200\n",
    "syn_strength=0.1\n",
    "input_strength=0.01\n",
    "sparsity=0.1\n",
    "W=(np.random.randn(N,N)/N + 1.0/N*(syn_strength))*(np.random.random([N,N])<sparsity)\n",
    "e_frac=0.8\n",
    "for i,row in enumerate(W):\n",
    "    W[i,:]=np.abs(row)*((np.random.rand()<e_frac)*2-1)\n",
    "\n",
    "b=np.random.rand(N)*input_strength\n",
    "tau=np.random.rand(N)*20\n",
    "T=100\n",
    "def eqs(y,t):\n",
    "    dydt=(-y +  map(f,W.dot(y) + I(t)))/tau \n",
    "    return dydt\n",
    "\n",
    "def f(x):\n",
    "    if x < 0:\n",
    "        return 0\n",
    "    return np.tanh(x)\n",
    "\n",
    "def I(t):\n",
    "    return  b*np.sin(2*np.pi*t/T)/N\n",
    "\n",
    "\n",
    "y0=np.random.rand(N)\n",
    "tmax=0.1\n",
    "t = np.linspace(0, tmax*1000, tmax*1000+1)\n",
    "\n",
    "sol = odeint(eqs, y0, t, hmax=1)\n",
    "plt.plot(t, sol,) #x1\n",
    "plt.show()\n",
    "\n",
    "pca=PCA()\n",
    "sol_pca=pca.fit_transform(sol)\n",
    "\n",
    "plt.plot(t, sol_pca, ) #x1\n",
    "plt.show()\n",
    "\n",
    "plt.imshow(np.abs(sol_pca.T[0:10,:]),aspect=10,interpolation='none') #x1\n",
    "plt.colorbar()\n",
    "# plt.plot(t, sol[:, 1], 'g') #x2\n",
    "plt.show()\n",
    "\n",
    "plt.figure(figsize=[20,20])\n",
    "v=np.max(np.abs(W).flatten())\n",
    "plt.imshow(W,interpolation='none',cmap='coolwarm', vmin=-v, vmax=v)\n",
    "plt.colorbar()\n",
    "plt.show()"
   ]
  }
 ],
 "metadata": {
  "celltoolbar": "Slideshow",
  "kernelspec": {
   "display_name": "Python 2",
   "language": "python",
   "name": "python2"
  },
  "language_info": {
   "codemirror_mode": {
    "name": "ipython",
    "version": 2
   },
   "file_extension": ".py",
   "mimetype": "text/x-python",
   "name": "python",
   "nbconvert_exporter": "python",
   "pygments_lexer": "ipython2",
   "version": "2.7.11"
  }
 },
 "nbformat": 4,
 "nbformat_minor": 0
}
