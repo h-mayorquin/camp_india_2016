{
 "cells": [
  {
   "cell_type": "code",
   "execution_count": 1,
   "metadata": {
    "collapsed": true
   },
   "outputs": [],
   "source": [
    "### From Burak and Fiete, Plos Comp. Biol. 2009\n",
    "### Author: Harsha Gurnani"
   ]
  },
  {
   "cell_type": "code",
   "execution_count": 2,
   "metadata": {
    "collapsed": true
   },
   "outputs": [],
   "source": [
    "from numpy import *\n",
    "from scipy import *"
   ]
  },
  {
   "cell_type": "code",
   "execution_count": null,
   "metadata": {
    "collapsed": false
   },
   "outputs": [],
   "source": []
  },
  {
   "cell_type": "code",
   "execution_count": 3,
   "metadata": {
    "collapsed": false
   },
   "outputs": [],
   "source": [
    "### Setting up model\n",
    "\n",
    "nsedge = 128\n",
    "NN = nsedge**2        #no. of neurons\n",
    "\n",
    "posx = [ int(nn/nsedge)-nsedge/2 for nn in range(NN) ]\n",
    "posy = [ int(mod(nn,nsedge))-nsedge/2 for nn in range(NN) ]\n",
    "\n",
    "pref_dirn = [0 for ii in range(NN)]\n",
    "\n",
    "dirns = [[0,1], [1,0],[0,-1], [-1,0]]\n",
    "for ii in range(NN):\n",
    "    shift=int(mod(mod(ii,8),4))\n",
    "    ind= mod(shift+ int(mod(ii,4)),4)\n",
    "    pref_dirn[ii] = ind\n",
    "    \n",
    "tau=10/1000\n",
    "dt =0.5/1000"
   ]
  },
  {
   "cell_type": "code",
   "execution_count": null,
   "metadata": {
    "collapsed": false
   },
   "outputs": [],
   "source": [
    "### Weight matrix\n",
    "def get_baselineW(a, gamma, beta, dist2):\n",
    "    return a*exp(-gamma*dist2) - exp(-beta*dist2)\n",
    "\n",
    "lambda_net=13\n",
    "a = 1.0\n",
    "beta =3/(lambda_net**2)\n",
    "gamma = 1.05*beta\n",
    "l = 0.5\n",
    "\n",
    "vec=zeros(2)\n",
    "Wt = zeros([NN,NN])\n",
    "for ii in range(NN):\n",
    "    for jj in range(NN):\n",
    "        x1,y1=posx[ii],posy[ii]\n",
    "        x2,y2=posx[jj],posy[jj]\n",
    "        pf=dirns[pref_dirn[jj]]\n",
    "        vec[0] = x1 - x2 - l*pf[0]\n",
    "        vec[1] = y1 - y2 -l*pf[1]\n",
    "        dist2 = vec[0]**2 + vec[1]**2\n",
    "        W = get_baselineW(a,gamma,beta,dist2)\n",
    "        Wt[ii,jj] = W"
   ]
  },
  {
   "cell_type": "code",
   "execution_count": null,
   "metadata": {
    "collapsed": true
   },
   "outputs": [],
   "source": [
    "### Velocity-modulated inputs\n",
    "\n",
    "B = zeros(NN)\n",
    "def get_vel_input(NN,A,alpha,edir,vel):\n",
    "    bv = zeros(NN)\n",
    "    for ii in range(NN):\n",
    "        pf = dirns[edir[ii]]\n",
    "        comp = pf[0]*vel[0] + pf[1]*vel[1]\n",
    "        bv[ii] = A[ii]*(1+alpha*comp)\n",
    "    return bv\n",
    "    "
   ]
  },
  {
   "cell_type": "code",
   "execution_count": null,
   "metadata": {
    "collapsed": true
   },
   "outputs": [],
   "source": [
    "A = [1 for ii in range(NN)]\n",
    "alpha=0.10315"
   ]
  },
  {
   "cell_type": "code",
   "execution_count": null,
   "metadata": {
    "collapsed": true
   },
   "outputs": [],
   "source": [
    "def DiffEqnForRates( s, t, Wt, tau , vel) :\n",
    "    '''\n",
    "    eqns for ds/dt\n",
    "    s: Firing rates of all neurons\n",
    "    Wt : synaptic weight matrix\n",
    "    B : Velocity-modulated input\n",
    "    '''\n",
    "    Ns= len(s)\n",
    "    n = int(sqrt(Ns))\n",
    "    dsdt = zeros(Ns)\n",
    "    B = get_vel_input(Ns, A, alpha, pref_dirn, vel[t])\n",
    "    for ii in range(Ns):\n",
    "        syn_act = B[ii]\n",
    "        for jj in range(Ns):\n",
    "            syn_act += Wt[jj,ii]*s[jj]\n",
    "        if syn_act < 0:\n",
    "            syn_act = 0;\n",
    "        dsdt[ii] = (syn_act - s[ii])/tau\n",
    "        \n",
    "    return dsdt"
   ]
  },
  {
   "cell_type": "code",
   "execution_count": null,
   "metadata": {
    "collapsed": true
   },
   "outputs": [],
   "source": [
    "### Setting up simulations\n",
    "dt =0.5/1000\n",
    "t=10\n",
    "trange=range(int(t/dt))\n",
    "\n",
    "vel=[(rand(2)-0.5)*0.8 for ii in trange]\n",
    "init_t=int(0.25/dt)\n",
    "for ii in range(init_t):\n",
    "    vel[ii] = [1,0]*0.8\n",
    "for ii in range(init_t, 2*init_t):\n",
    "    vel[ii] = [cos(pi/5), sin(pi/5)]*0.8\n",
    "for ii in range(2*init_t,3*init_t):\n",
    "    vel[ii] = [cos(pi/2-pi/5), sin(pi/2-pi/5)]*0.8\n",
    "\n",
    "print shape(vel)\n",
    "\n",
    "s0 = rand(NN)*5\n",
    "rates = scipy.integrate.odeint(DiffEqnForRates, s0, t, Wt, tau, vel)\n",
    "print shape(rates)"
   ]
  },
  {
   "cell_type": "code",
   "execution_count": null,
   "metadata": {
    "collapsed": true
   },
   "outputs": [],
   "source": [
    "### Get position from velocity\n",
    "### Plot rates versus position\n",
    "### Plot population response maps"
   ]
  },
  {
   "cell_type": "code",
   "execution_count": null,
   "metadata": {
    "collapsed": true
   },
   "outputs": [],
   "source": []
  }
 ],
 "metadata": {
  "kernelspec": {
   "display_name": "Python 2",
   "language": "python",
   "name": "python2"
  },
  "language_info": {
   "codemirror_mode": {
    "name": "ipython",
    "version": 2
   },
   "file_extension": ".py",
   "mimetype": "text/x-python",
   "name": "python",
   "nbconvert_exporter": "python",
   "pygments_lexer": "ipython2",
   "version": "2.7.6"
  }
 },
 "nbformat": 4,
 "nbformat_minor": 0
}
