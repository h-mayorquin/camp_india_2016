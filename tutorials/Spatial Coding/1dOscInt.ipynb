{
 "cells": [
  {
   "cell_type": "code",
   "execution_count": 24,
   "metadata": {
    "collapsed": true
   },
   "outputs": [],
   "source": [
    "### From Burgess et al 2007\n",
    "### 1-D : oscillatory interference"
   ]
  },
  {
   "cell_type": "code",
   "execution_count": 25,
   "metadata": {
    "collapsed": true
   },
   "outputs": [],
   "source": [
    "### Import necessary modules\n",
    "from numpy import *\n",
    "from scipy import *\n",
    "from pylab import *\n",
    "from math import *\n",
    "\n",
    "%matplotlib inline"
   ]
  },
  {
   "cell_type": "markdown",
   "metadata": {},
   "source": [
    "### Setting up the model parameters"
   ]
  },
  {
   "cell_type": "code",
   "execution_count": 26,
   "metadata": {
    "collapsed": false
   },
   "outputs": [],
   "source": [
    "#### Model Parameters\n",
    "beta = 0.01*2*pi            #Spatial scaling factor (in rad/cm)\n",
    "s = 30                      #Running speed (in cm/s)\n",
    "phase = 0                   #Preferred running direction (in rad)\n",
    "ws = 10                     #Somatic intrinsic frequency (in Hz)\n",
    "wd = ws + beta*s            #Dendritic frequency (in Hz)\n",
    "phid = 0                    #Dendritic phase\n",
    "env_per = 0.5/(wd - ws)     #Envelope time period = 1/freq\n",
    "\n",
    "\n",
    "## Environment size\n",
    "bsize = 78*2                #Box edge length (in cm)\n",
    "tsize = bsize/s             #In second\n",
    "dt = 0.002                  #In sec\n",
    "dx = dt*s\n",
    "\n",
    "## Simulation parameters\n",
    "t = arange(0,tsize, dt)     #Time (in s)\n",
    "thresh = 1.15               #Threshold (between -2  and 2: as amplitudes ) for firing\n",
    "\n",
    "\n"
   ]
  },
  {
   "cell_type": "markdown",
   "metadata": {},
   "source": [
    "### Setting the dendritic and somatic oscillators"
   ]
  },
  {
   "cell_type": "code",
   "execution_count": 27,
   "metadata": {
    "collapsed": true
   },
   "outputs": [],
   "source": [
    "#Theta oscillator: same as soma\n",
    "int_fr = [cos(ws*2*pi*tm) - 3 for tm in t]\n",
    "\n",
    "### V_somatic + v_dendritic\n",
    "fr = [ (cos(ws*2*pi*tm) + cos(wd*2*pi*tm + phid) ) for tm in t]\n",
    "\n",
    "#Theta phase\n",
    "phase = [mod(ws*2*pi*tm+pi, 2*pi) for tm in t]"
   ]
  },
  {
   "cell_type": "markdown",
   "metadata": {},
   "source": [
    "### Parameters for generating spikes"
   ]
  },
  {
   "cell_type": "code",
   "execution_count": 28,
   "metadata": {
    "collapsed": true
   },
   "outputs": [],
   "source": [
    "#refractory period (in s) = 2.1 ms (no point making it <= dt)\n",
    "tref = 0.0021\n",
    "\n",
    "#No. of trials with same grid\n",
    "trials = 1000\n",
    "\n",
    "#Spikes: binary matrix: 1 for spike. 0 for no spike. For all trials\n",
    "spikes = array([ [0 for tm in t] for ii in range(trials)])\n",
    "\n",
    "#(refractory period - time since last spike)\n",
    "tsls = array([0.005 for ii in range(trials)])\n",
    "tsls = reshape(tsls,trials,1)"
   ]
  },
  {
   "cell_type": "markdown",
   "metadata": {},
   "source": [
    "### Generate spikes for all trials"
   ]
  },
  {
   "cell_type": "code",
   "execution_count": 29,
   "metadata": {
    "collapsed": true
   },
   "outputs": [],
   "source": [
    "for tm in xrange(0,len(t)):\n",
    "    rand_throw = rand(trials)\n",
    "    ## Here we use proportional firing probability with threshold.\n",
    "    ## Can use an indicator function instead. Does psth look different?\n",
    "    fprob = (fr[tm] - thresh)/(2.0-thresh)\n",
    "    \n",
    "    # Generate spikes with given prob and after refractory period.\n",
    "    spikes[:,tm] = multiply((rand_throw <= fprob),(tsls <= 0))*1\n",
    "    \n",
    "    # Reset/decrease tsls\n",
    "    # tsls is reset to tref if cell spikes at instant tm. Else it decreases by dt.\n",
    "    tsls = tref*(rand_throw <= fprob)*1 -dt* (rand_throw > fprob)*1\n"
   ]
  },
  {
   "cell_type": "markdown",
   "metadata": {},
   "source": [
    "## Visualising activity patterns"
   ]
  },
  {
   "cell_type": "code",
   "execution_count": 30,
   "metadata": {
    "collapsed": true
   },
   "outputs": [],
   "source": [
    "#Peri-stimulus histogram\n",
    "psth = sum(spikes, axis=0)\n",
    "MFR = max(psth)           # Max firing rate(no. of spikes) at a given instant\n",
    "\n",
    "#Example spiketimes indices for 1st and last trial\n",
    "spt1 = (spikes[0,:])\n",
    "spt1 = where(spt1==1)\n",
    "spt2 = (spikes[trials-1,:])\n",
    "spt2 = where(spt2==1)\n"
   ]
  },
  {
   "cell_type": "markdown",
   "metadata": {},
   "source": [
    "### Calculating spike phases"
   ]
  },
  {
   "cell_type": "code",
   "execution_count": 31,
   "metadata": {
    "collapsed": false
   },
   "outputs": [
    {
     "name": "stderr",
     "output_type": "stream",
     "text": [
      "/usr/local/lib/python2.7/dist-packages/ipykernel/__main__.py:6: DeprecationWarning: using a non-integer number instead of an integer will result in an error in the future\n"
     ]
    }
   ],
   "source": [
    "dtheta = 5*2*pi/180\n",
    "\n",
    "phase_psth = arange(0,2*pi,dtheta)\n",
    "for ii in t:\n",
    "    p = int(mod(ws*2*pi*tm+pi, 2*pi)/dtheta)\n",
    "    phase_psth[p] += psth[ii]"
   ]
  },
  {
   "cell_type": "markdown",
   "metadata": {},
   "source": [
    "### Plotting"
   ]
  },
  {
   "cell_type": "code",
   "execution_count": 36,
   "metadata": {
    "collapsed": false
   },
   "outputs": [
    {
     "data": {
      "text/plain": [
       "<matplotlib.legend.Legend at 0x7fab522e9ed0>"
      ]
     },
     "execution_count": 36,
     "metadata": {},
     "output_type": "execute_result"
    },
    {
     "data": {
      "image/png": "[encoded data removed]",
      "text/plain": [
       "<matplotlib.figure.Figure at 0x7fab55a0ae50>"
      ]
     },
     "metadata": {},
     "output_type": "display_data"
    }
   ],
   "source": [
    "fig1=figure(figsize=(10,8))\n",
    "\n",
    "###########\n",
    "###### Grid pattern in time for speed s:\n",
    "###########\n",
    "subplot(221)\n",
    "#Total somatic V\n",
    "plot(t,fr)\n",
    "#Theta oscillator\n",
    "plot(t, int_fr, 'r')\n",
    "#Threshold for firing\n",
    "plot(t, [thresh for tm in t], 'g')\n",
    "xlim([0, tsize/2])\n",
    "legend(('Vm','Intrinsic theta'))\n",
    "\n"
   ]
  },
  {
   "cell_type": "code",
   "execution_count": 37,
   "metadata": {
    "collapsed": false
   },
   "outputs": [
    {
     "data": {
      "text/plain": [
       "<matplotlib.text.Text at 0x7fab5b074f10>"
      ]
     },
     "execution_count": 37,
     "metadata": {},
     "output_type": "execute_result"
    },
    {
     "data": {
      "image/png": "[encoded data removed]",
      "text/plain": [
       "<matplotlib.figure.Figure at 0x7fab52408cd0>"
      ]
     },
     "metadata": {},
     "output_type": "display_data"
    }
   ],
   "source": [
    "###### PSTH\n",
    "fig2=figure(figsize=(10,4))\n",
    "bar(t,psth, width=dt)\n",
    "bar([1.0*n/ws for n in xrange(0, int(tsize*ws)+1)], [MFR+5 for n in xrange(0, int(tsize*ws)+1)], color='r', width=dt, edgecolor='r')\n",
    "xlim([0, tsize/2])\n",
    "ylabel('PSTH')\n",
    "\n",
    "xlabel('Time (in second)')\n"
   ]
  },
  {
   "cell_type": "code",
   "execution_count": null,
   "metadata": {
    "collapsed": true
   },
   "outputs": [],
   "source": []
  }
 ],
 "metadata": {
  "kernelspec": {
   "display_name": "Python 2",
   "language": "python",
   "name": "python2"
  },
  "language_info": {
   "codemirror_mode": {
    "name": "ipython",
    "version": 2
   },
   "file_extension": ".py",
   "mimetype": "text/x-python",
   "name": "python",
   "nbconvert_exporter": "python",
   "pygments_lexer": "ipython2",
   "version": "2.7.6"
  }
 },
 "nbformat": 4,
 "nbformat_minor": 0
}
