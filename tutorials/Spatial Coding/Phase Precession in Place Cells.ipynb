{
 "cells": [
  {
   "cell_type": "markdown",
   "metadata": {
    "slideshow": {
     "slide_type": "slide"
    }
   },
   "source": [
    "##### Import necessary modules"
   ]
  },
  {
   "cell_type": "code",
   "execution_count": 1,
   "metadata": {
    "collapsed": false,
    "slideshow": {
     "slide_type": "subslide"
    }
   },
   "outputs": [
    {
     "ename": "ImportError",
     "evalue": "No module named peakutils.peak",
     "output_type": "error",
     "traceback": [
      "\u001b[1;31m---------------------------------------------------------------------------\u001b[0m",
      "\u001b[1;31mImportError\u001b[0m                               Traceback (most recent call last)",
      "\u001b[1;32m<ipython-input-1-ca42699afd01>\u001b[0m in \u001b[0;36m<module>\u001b[1;34m()\u001b[0m\n\u001b[0;32m     13\u001b[0m \u001b[1;32mimport\u001b[0m \u001b[0mnumpy\u001b[0m \u001b[1;32mas\u001b[0m \u001b[0mnp\u001b[0m\u001b[1;33m\u001b[0m\u001b[0m\n\u001b[0;32m     14\u001b[0m \u001b[1;32mfrom\u001b[0m \u001b[0mscipy\u001b[0m\u001b[1;33m.\u001b[0m\u001b[0mfftpack\u001b[0m \u001b[1;32mimport\u001b[0m \u001b[0mfft\u001b[0m\u001b[1;33m\u001b[0m\u001b[0m\n\u001b[1;32m---> 15\u001b[1;33m \u001b[1;32mimport\u001b[0m \u001b[0mpeakutils\u001b[0m\u001b[1;33m.\u001b[0m\u001b[0mpeak\u001b[0m \u001b[1;32mas\u001b[0m \u001b[0mpk\u001b[0m\u001b[1;33m\u001b[0m\u001b[0m\n\u001b[0m\u001b[0;32m     16\u001b[0m \u001b[1;33m\u001b[0m\u001b[0m\n\u001b[0;32m     17\u001b[0m \u001b[1;31m##For colour bar: makecmap.py is in the same folder\u001b[0m\u001b[1;33m\u001b[0m\u001b[1;33m\u001b[0m\u001b[0m\n",
      "\u001b[1;31mImportError\u001b[0m: No module named peakutils.peak"
     ]
    }
   ],
   "source": [
    "#########################################\n",
    "### Implementing model from Geisler et al 2010\n",
    "### Place cell maps: Rate based.\n",
    "#########################################\n",
    "\n",
    "\n",
    "from numpy import *\n",
    "from scipy import *\n",
    "from pylab import *\n",
    "import matplotlib.cm as cmx \n",
    "import matplotlib.colors as colors\n",
    "from scipy import signal as sg\n",
    "import numpy as np\n",
    "from scipy.fftpack import fft\n",
    "import peakutils.peak as pk\n",
    "\n",
    "##For colour bar: makecmap.py is in the same folder\n",
    "import makecmap as mc\n",
    "\n",
    "##For checking freq is in theta band (4-12 Hz):\n",
    "import checktheta as ct\n",
    "\n",
    "##For generating spiketimes:\n",
    "import spikegen as spg\n",
    "%matplotlib inline\n"
   ]
  },
  {
   "cell_type": "markdown",
   "metadata": {
    "slideshow": {
     "slide_type": "slide"
    }
   },
   "source": [
    "##### Assume that the animal is running at constant velocity along a linear track. Then firing rate map will have same envelope as place field, but the firing rate is modulated at theta frequency (f0). Experimentally, this frequency can be obtained from the autocorrelation of the neuron's firing rate (f0 = 1/tau_autocorr)"
   ]
  },
  {
   "cell_type": "code",
   "execution_count": null,
   "metadata": {
    "collapsed": false,
    "slideshow": {
     "slide_type": "slide"
    }
   },
   "outputs": [],
   "source": [
    "#### Firing Rate maps (in time) or Firing Probabilities for individual cells:\n",
    "\n",
    "def SingleNeuronRateMap(t, f0=8.6, tau_n=0.075*1, sigma=0.5/sqrt(2), T_n=1):\n",
    "    '''\n",
    "    Sigmoidal rate function modulated by Gaussian envelope.\n",
    "    \n",
    "    t : Time array\n",
    "\n",
    "    f0 (=8.6 Hz) : Intrinsic theta frequency/frequency of modulation of single cell firing\n",
    "    tau_n (=0.075) : Theta phase of neuron\n",
    "    sigma (=0.5/sqrt(2)) : Half-Width of gaussian envelope\n",
    "    T_n (=1) : Centre of place field of cell/Time of maximal firing\n",
    "        \n",
    "    Gaussian envelope: 1/sqrt(pi*sigma) * exp( -(t-Tn)^2/sigma^2 )\n",
    "    Firing rate is oscillatory(at freq f0) and phase shift is 2*pi*f0*tau_n\n",
    " \n",
    "    '''\n",
    "    return ( 1+exp(2j*pi*f0*(t-tau_n)) ) * 1/(sqrt(pi)*sigma)*exp(-(t-T_n)**2/sigma**2)\n"
   ]
  },
  {
   "cell_type": "markdown",
   "metadata": {
    "slideshow": {
     "slide_type": "slide"
    }
   },
   "source": [
    "##### Define Parameters for setting up rate maps for place cells:"
   ]
  },
  {
   "cell_type": "code",
   "execution_count": null,
   "metadata": {
    "collapsed": false,
    "slideshow": {
     "slide_type": "subslide"
    }
   },
   "outputs": [],
   "source": [
    "############################\n",
    "#### Parameters:\n",
    "############################\n",
    "\n",
    "TotalL = 5.0 #s         # Length of arena (Assuming constant running speed in forward direction)\n",
    "\n",
    "#### Parameters for ratemap: Homogenous population\n",
    "L = 1.5 #s              # Place field size in time: L = s*PFS where \n",
    "                        # s = running speed, PFS = Place field size in space\n",
    "f0 = 8.6 #Hz            # Oscillation frequency of single neurons\n",
    "c = 0.075               # Compression factor\n",
    "sigma = L/(3*sqrt(2))   # Sigma of gaussian envelope of SNRM [single neuron rate map]\n",
    "\n",
    "#### Distriuting place field centres\n",
    "N = 100                            # No. of place cells\n",
    "Tn = arange(0,TotalL,TotalL/N)    # Place field centres : uniformly distributed\n",
    "\n",
    "## Time lag tau_n is correlated with position T_n of place-field centres. \n",
    "## Experimental: Sigmoidal. Linear for large range.    Model: Related by compression factor.\n",
    "taun = c*Tn                       # Theta -scale time lag. Depends on compression factor. \n",
    "                                  # How separated are 2 place cell's theta phase given their \n",
    "                                  # separation in space? Ans:   delta tau_n = c * delta T_n\n",
    "\n",
    "#### Simulation parameters\n",
    "delt = 0.001                      # Delta t: time step           \n",
    "t = arange(0, TotalL, delt)       # Time array\n"
   ]
  },
  {
   "cell_type": "markdown",
   "metadata": {
    "slideshow": {
     "slide_type": "slide"
    }
   },
   "source": [
    "### Setting rate maps for single cells. "
   ]
  },
  {
   "cell_type": "code",
   "execution_count": null,
   "metadata": {
    "collapsed": false,
    "slideshow": {
     "slide_type": "subslide"
    }
   },
   "outputs": [],
   "source": [
    "############################\n",
    "######## Rate maps:\n",
    "############################\n",
    "\n",
    "rates = zeros([N, len(t)], dtype=complex)        ### To hold rate maps for all cells\n",
    "#### Create place cell maps:\n",
    "for i in xrange(0,N):\n",
    "    rates[i][:] = SingleNeuronRateMap(t,tau_n=taun[i], T_n = Tn[i], sigma=sigma)\n",
    "    \n",
    "    \n",
    "\n",
    "#############################\n",
    "####### Plotting:\n",
    "#############################\n",
    "\n",
    "#### Plotting rate maps for example cells\n",
    "num_of_maps = 4                         ### No. of example rate maps\n",
    "cells_to_plot = range(0, N, int(N/num_of_maps))\n",
    "colorbar = mc.MakeColourMap(N)\n",
    "\n",
    "fig1 = figure(figsize=(8,5))\n",
    "for idx in cells_to_plot:\n",
    "    line = abs(rates[idx][:])\n",
    "    colorVal = colorbar.to_rgba(idx)\n",
    "    plot(t, line, color=colorVal, linewidth=2.0)       #Add label if you want legend.\n",
    "\n",
    "ylabel('Discharge probability for individual place cells')\n",
    "xlabel('(Space or) Time (sec) with constant running speed')\n",
    "title('Rate maps for various place cells')"
   ]
  },
  {
   "cell_type": "markdown",
   "metadata": {
    "slideshow": {
     "slide_type": "slide"
    }
   },
   "source": [
    "### Population rate is sum of individual neuron rate maps."
   ]
  },
  {
   "cell_type": "code",
   "execution_count": null,
   "metadata": {
    "collapsed": false,
    "slideshow": {
     "slide_type": "subslide"
    }
   },
   "outputs": [],
   "source": [
    "#### Population activity:\n",
    "nfactor = 2*(Tn[1] - Tn[0])                      ### Normalization factor\n",
    "poprate = np.sum(rates,0)*nfactor                ### Population rate\n",
    "\n",
    "fig2=figure(figsize=(2*TotalL,6))\n",
    "plot(t, abs(poprate), color='b', linewidth=2.0)\n",
    "xlabel('Time (sec)')\n",
    "ylabel('Population Firing Rate')\n"
   ]
  },
  {
   "cell_type": "markdown",
   "metadata": {
    "slideshow": {
     "slide_type": "slide"
    }
   },
   "source": [
    "### Finding frequency of oscillation (in the theta band) for single neuron and population rate"
   ]
  },
  {
   "cell_type": "code",
   "execution_count": null,
   "metadata": {
    "collapsed": false,
    "slideshow": {
     "slide_type": "subslide"
    }
   },
   "outputs": [],
   "source": [
    "### Power spectrum of rate maps:\n",
    "\n",
    "ns = len(poprate)\n",
    "pop_fft = fft(poprate)                                     # Population rate FFT\n",
    "cell_fft = fft(rates[N/2][:])                               # FFT for a single neuron rate map\n",
    "freq = np.arange(0.0,1.0/(2*delt),1.0/(2*delt)*2/ns)    # Frequency array (0 to fmax)   \n",
    "\n"
   ]
  },
  {
   "cell_type": "markdown",
   "metadata": {
    "slideshow": {
     "slide_type": "slide"
    }
   },
   "source": [
    "### Now let's plot the power spectrum!"
   ]
  },
  {
   "cell_type": "code",
   "execution_count": null,
   "metadata": {
    "collapsed": false,
    "slideshow": {
     "slide_type": "subslide"
    }
   },
   "outputs": [],
   "source": [
    "fig3=figure()\n",
    "A = fig3.add_subplot(111)\n",
    "A.plot(freq,2.0/ns*abs(pop_fft[0:ns/2])/N, color ='b' , linewidth = 2.0)\n",
    "B = A.twinx()             # Same x-axis, different scales on y-axis\n",
    "B.plot(freq,2.0/ns*abs(cell_fft[0:ns/2]), 'r-' , linewidth =2.0)\n",
    "A.set_xlim([0.05, 15])    # Plot upto freq = 15Hz\n",
    "A.set_ylabel('Population activity: Power', color='b' )\n",
    "A.set_xlabel('Frequency (Hz)')\n",
    "B.set_ylabel('Individual cell activity: Power', color ='r')"
   ]
  },
  {
   "cell_type": "markdown",
   "metadata": {
    "slideshow": {
     "slide_type": "subslide"
    }
   },
   "source": [
    "### Find the frequency in the theta band with maximum power."
   ]
  },
  {
   "cell_type": "code",
   "execution_count": null,
   "metadata": {
    "collapsed": false,
    "slideshow": {
     "slide_type": "subslide"
    }
   },
   "outputs": [],
   "source": [
    "### Protocol for finding frequency with peak power:\n",
    "### Finding local peaks ( and above threshold = 20% Peak power)\n",
    "### pk.indexes returns the \"indices\" of the local peaks\n",
    "LFP_freq = pk.indexes(abs(pop_fft[0:ns/2]), thres=0.2)          #Indices of local maximas in power spectrum of poprate\n",
    "Intrinsic_freq = pk.indexes(abs(cell_fft[0:ns/2]), thres=0.2)   #Indices of local maximas in power spectrum of cell rates\n",
    "\n",
    "\n",
    "### What is the frequency (in theta band) at which single neuron or population activity is modulated? \n",
    "### Theta band used: 4-12 Hz\n",
    "\n",
    "## LFP\n",
    "LFP_Theta = ct.CheckThetaFreq( LFP_freq, freq )\n",
    "if LFP_Theta>12:\n",
    "    print 'No Peak in Theta Band for population activity'\n",
    "else:\n",
    "    print 'Population rate is modulated at frequency', LFP_Theta, 'Hz'\n",
    "    \n",
    "## Individual cells\n",
    "Intrinsic_Theta = ct.CheckThetaFreq( Intrinsic_freq, freq )\n",
    "if Intrinsic_Theta < 12:\n",
    "    print 'Individual cell firing rate is modulated at frequency', Intrinsic_Theta, 'Hz'\n",
    "else:\n",
    "    print 'No Peak in Theta Band for individual cell activity'"
   ]
  },
  {
   "cell_type": "markdown",
   "metadata": {
    "collapsed": true,
    "slideshow": {
     "slide_type": "slide"
    }
   },
   "source": [
    "### Superimpose firing rate peaks of individual cells on population rate"
   ]
  },
  {
   "cell_type": "code",
   "execution_count": null,
   "metadata": {
    "collapsed": false,
    "slideshow": {
     "slide_type": "subslide"
    }
   },
   "outputs": [],
   "source": [
    "example_cells = [int(0.35*N), int(0.65*N)]\n",
    "\n",
    "peak_times = {}\n",
    "threshold = 0.2     ## Minimum normalized peak size to be detected\n",
    "# Detecting peaks in firing rates\n",
    "for ii in example_cells:\n",
    "    pks = sg.argrelextrema(abs(rates[ii][:]), np.greater)\n",
    "    thresh_pk = threshold * max(abs(rates[ii]))             #Minimum peak size\n",
    "    idx = where(abs(rates[ii][pks]) >= thresh_pk)\n",
    "    peak_times[ii] = pks[0][idx[0]]\n",
    "    \n",
    "    \n"
   ]
  },
  {
   "cell_type": "code",
   "execution_count": null,
   "metadata": {
    "collapsed": false,
    "slideshow": {
     "slide_type": "subslide"
    }
   },
   "outputs": [],
   "source": [
    "### X-axis limits based on plotted spiketimes\n",
    "mintime = t[ peak_times[example_cells[0]][0] ]     # First spike\n",
    "maxtime = t[ peak_times[example_cells[-1]][-1] ]   # Last spike\n",
    "\n",
    "\n",
    "### Plotting:\n",
    "fig4 = figure(figsize=(12,6))\n",
    "# Plot population rate for reference\n",
    "plot(t, abs(poprate), color='k', label='Population rate', linewidth=1.5)\n",
    "#Plot peaks for example cells\n",
    "for idx in example_cells:\n",
    "    colorVal=colorbar.to_rgba(idx)\n",
    "    ptimes = peak_times[idx]\n",
    "    plot(t[ptimes], abs(poprate[ptimes]), 'ro', color=colorVal, markersize=12.0, markeredgecolor='k', markeredgewidth=1.5, label='Spiketimes for Cell {}'.format(idx) )\n",
    "xlabel('Time (sec)')\n",
    "xlim([mintime-100*delt, maxtime+100*delt])\n",
    "ylabel('Population rate')\n",
    "legend(loc=3)"
   ]
  },
  {
   "cell_type": "markdown",
   "metadata": {
    "slideshow": {
     "slide_type": "slide"
    }
   },
   "source": [
    "# Let's examine the phase precession"
   ]
  },
  {
   "cell_type": "markdown",
   "metadata": {
    "collapsed": true,
    "slideshow": {
     "slide_type": "slide"
    }
   },
   "source": [
    "### Finding phase wrt Population Theta Oscillations"
   ]
  },
  {
   "cell_type": "code",
   "execution_count": null,
   "metadata": {
    "collapsed": false,
    "slideshow": {
     "slide_type": "subslide"
    }
   },
   "outputs": [],
   "source": [
    "## Demonstration: If LFP has no theta peak, work with a dummy theta.\n",
    "if LFP_Theta > 12:\n",
    "    LFP_Theta = f0*(1-c)\n",
    "        \n",
    "### Define phase wrt LFP theta oscillations\n",
    "\n",
    "# Find first population trough to set as phase 0.\n",
    "skip = int(1.0/delt)  #Skip initial 1.0s to avoid edge effects\n",
    "pop_troughs = sg.argrelextrema(poprate[skip:], np.less)\n",
    "\n",
    "### Now that you have population rate troughs, you can calculate phase in each cycle wrt to \n",
    "### distance between successive troughs. This is useful when your power spectrum does not show a\n",
    "### single strong peak in the theta band.\n",
    "### For this tutorial, we will assume a a constant frequency oscillation. Thus, the first trough \n",
    "### can be used to set all phases\n",
    "pop_phase0 = pop_troughs[0][0]                # because the fn argrel... returns tuple of arrays\n",
    "phase = mod(2*pi*LFP_Theta*(t-t[pop_phase0+skip]), 2*pi)      # Array with LFP phase\n"
   ]
  },
  {
   "cell_type": "markdown",
   "metadata": {
    "slideshow": {
     "slide_type": "slide"
    }
   },
   "source": [
    "### Assignment: Measure phase within each cycle by representing the trough to trough interval in that cycle as phase 0 to 360 degrees, instead of measuring it using the sinusoid.\n",
    "\n",
    "\n",
    "\n",
    "### Hint: Use scipy.signal.argrelextrema"
   ]
  },
  {
   "cell_type": "markdown",
   "metadata": {
    "slideshow": {
     "slide_type": "slide"
    }
   },
   "source": [
    "### How does the phase of the peaks in rate map vary?"
   ]
  },
  {
   "cell_type": "code",
   "execution_count": null,
   "metadata": {
    "collapsed": false,
    "slideshow": {
     "slide_type": "subslide"
    }
   },
   "outputs": [],
   "source": [
    "xhigh = max(len(peak_times[idx]) for idx in example_cells)\n",
    "\n",
    "## Plot phase of successive peaks\n",
    "fig5=figure()\n",
    "for idx in example_cells:\n",
    "    colorVal = colorbar.to_rgba(idx)\n",
    "    ptimes = peak_times[idx]\n",
    "    numspikes = len(ptimes)\n",
    "    plot(range(1,numspikes+1), phase[ptimes]*180/pi, 'ro',  color=colorVal,label='Spike phase for cell{}'.format(idx))\n",
    "xlabel('Peak number')\n",
    "ylabel('Phase of peak')\n",
    "xlim([0, xhigh+1])\n",
    "ylim([-10, 370])\n",
    "legend()\n"
   ]
  },
  {
   "cell_type": "markdown",
   "metadata": {
    "slideshow": {
     "slide_type": "slide"
    }
   },
   "source": [
    "### Assignment: Measure the slope of phase precession. How does it change with parameters like c, f0, ...? Why?"
   ]
  },
  {
   "cell_type": "markdown",
   "metadata": {
    "slideshow": {
     "slide_type": "slide"
    }
   },
   "source": [
    "### How does the firing rate correlate with spike phase?"
   ]
  },
  {
   "cell_type": "code",
   "execution_count": null,
   "metadata": {
    "collapsed": false,
    "scrolled": true,
    "slideshow": {
     "slide_type": "subslide"
    }
   },
   "outputs": [],
   "source": [
    "### New set of example cells\n",
    "example_cells2=range(0,N,N/15)\n",
    "peak_times2 = {}\n",
    "threshold2 = 0.2     ## Minimum normalized peak size to be detected\n",
    "\n",
    "# Detecting peaks in firing rates\n",
    "for ind in example_cells2:\n",
    "    pks = sg.argrelextrema(abs(rates[ind][:]), np.greater)\n",
    "    thresh_pk = threshold * max(abs(rates[ind][:]))                 #Minimum peak size\n",
    "    idx = where(abs(rates[ind][pks]) >= thresh_pk)\n",
    "    peak_times2[ind] = pks[0][idx[0]]\n",
    "    \n",
    "    \n",
    "fig6 = figure()\n",
    "\n",
    "for idx in example_cells2:\n",
    "    colorVal=colorbar.to_rgba(idx)\n",
    "    maxrate = amax(abs(rates[idx][:]))\n",
    "    ptimes = peak_times2[idx]\n",
    "    plot( phase[ptimes]*180/pi, abs(rates[idx][ptimes])/maxrate, color=colorVal, linewidth=2.0)\n",
    "xlabel('\"LFP\" Theta Phase (deg)')\n",
    "ylabel('Normalised firing rate')\n",
    "title('Firing rate and phase for various place cells')"
   ]
  },
  {
   "cell_type": "markdown",
   "metadata": {
    "collapsed": true,
    "slideshow": {
     "slide_type": "slide"
    }
   },
   "source": [
    "# Generating spikes"
   ]
  },
  {
   "cell_type": "markdown",
   "metadata": {
    "slideshow": {
     "slide_type": "slide"
    }
   },
   "source": [
    "### Use the rate map to generate spiketimes for different cells"
   ]
  },
  {
   "cell_type": "code",
   "execution_count": null,
   "metadata": {
    "collapsed": false,
    "slideshow": {
     "slide_type": "subslide"
    }
   },
   "outputs": [],
   "source": [
    "maxFR = 20        #Hz ()Max instantaneous firing rate\n",
    "threshold = 0.25\n",
    "trials = 500\n",
    "spiketimes ={}\n",
    "TimePeriod = 1/LFP_Theta     #in sec\n",
    "\n",
    "spiking_cell = N/2\n",
    "for ii in range(trials):\n",
    "    spiketimes[ii] = spg.GenerateSpikeTimes(abs(rates[spiking_cell][:]), t, ns, delt, maxFR, threshold)\n",
    "\n",
    "## Raster plot\n",
    "## ???\n",
    "##\n",
    "\n",
    "### Setting x-limits\n",
    "xlow=max(t)\n",
    "xhigh=0\n",
    "\n",
    "##To trap for empty trials\n",
    "for ii in range(trials):\n",
    "    if len(spiketimes[ii])>0:\n",
    "        xlow=min(xlow, t[spiketimes[ii][0]])\n",
    "        xhigh=max(xhigh, t[spiketimes[ii][-1]])\n",
    "xlow=xlow-TimePeriod\n",
    "xhigh=xhigh+TimePeriod"
   ]
  },
  {
   "cell_type": "code",
   "execution_count": null,
   "metadata": {
    "collapsed": false,
    "slideshow": {
     "slide_type": "subslide"
    }
   },
   "outputs": [],
   "source": [
    "## Phase of spikes:\n",
    "## Find Pop troughs and peaks:\n",
    "troughs =  arange(-3*TimePeriod+t[pop_phase0], max(t), TimePeriod)\n",
    "peaks = arange(-2.5*TimePeriod+t[pop_phase0], max(t), TimePeriod)\n",
    "colorVal=colorbar.to_rgba(spiking_cell)\n",
    "\n",
    "### Plotting phases if spikes\n",
    "fig7=figure(figsize=(12,5))\n",
    "ax=fig7.add_subplot(111)\n",
    "for ii in range(trials):\n",
    "    plot(t[spiketimes[ii]], phase[[spiketimes[ii]]]*180/pi , 'ro', color=colorVal)\n",
    "bar(troughs,[400 for jj in troughs], bottom=[-20 for jj in troughs], width=2*delt, color='k', label='Population Troughs')\n",
    "bar(peaks,height=[400 for jj in peaks], bottom=[-20 for jj in peaks], width=2*delt, color='r', edgecolor='r', label='Population Peaks')\n",
    "ax.grid()\n",
    "xlim([xlow,xhigh])\n",
    "ylim([-20,380])\n",
    "xlabel('Time (sec)')\n",
    "ylabel('Phase of population activity (degrees) for each spike')\n",
    "legend()"
   ]
  },
  {
   "cell_type": "markdown",
   "metadata": {
    "slideshow": {
     "slide_type": "slide"
    }
   },
   "source": [
    "### Assignment: Measure phase of first spike and mean phase within each theta cycle. \n",
    "### How does it change with time(cycle number)? Do both vary identically?"
   ]
  },
  {
   "cell_type": "markdown",
   "metadata": {
    "collapsed": true,
    "slideshow": {
     "slide_type": "slide"
    }
   },
   "source": [
    "### Plot histogram of spiketimes"
   ]
  },
  {
   "cell_type": "code",
   "execution_count": null,
   "metadata": {
    "collapsed": false,
    "slideshow": {
     "slide_type": "subslide"
    }
   },
   "outputs": [],
   "source": [
    "#### Creating histogram:\n",
    "#### Bins for histogram of spike times for spk_cells\n",
    "numofbins=100\n",
    "bins = arange(xlow, xhigh, (xhigh-xlow)/numofbins)\n",
    "[spikecount,b] = histogram(t[spiketimes[0]], bins)\n",
    "count = spikecount\n",
    "\n",
    "for ii in xrange(1,trials):\n",
    "    [spikecount,b] = histogram(t[spiketimes[ii]], bins)\n",
    "    count += spikecount   \n",
    "yhigh=max(count)+5\n",
    "\n",
    "fig8=figure(figsize=(12,5))\n",
    "## Histogram of spike times for example cell:\n",
    "bar(bins[:-1], count, width=(bins[1]-bins[0])*0.9, label='Spike count over all trials')\n",
    "## Theta peaks and troughs:\n",
    "#bar(troughs, [yhigh for jj in troughs],  width=delt ,color='k', edgecolor='k', label='Population troughs')\n",
    "bar(peaks, [yhigh for jj in peaks],  width=2*delt ,color='r', edgecolor='r', label='Population peaks')\n",
    "xlim(xlow,xhigh)\n",
    "ylim([0, yhigh])\n",
    "xlabel('Time (in s)')\n",
    "ylabel('Spike count over %d trials'%(trials))\n",
    "legend()"
   ]
  },
  {
   "cell_type": "markdown",
   "metadata": {
    "slideshow": {
     "slide_type": "slide"
    }
   },
   "source": [
    " * Firing rate changes within the place field : Gaussian envelope\n"
   ]
  },
  {
   "cell_type": "markdown",
   "metadata": {
    "slideshow": {
     "slide_type": "fragment"
    }
   },
   "source": [
    " * Spiking is theta-modulated"
   ]
  },
  {
   "cell_type": "markdown",
   "metadata": {
    "slideshow": {
     "slide_type": "fragment"
    }
   },
   "source": [
    "\n",
    " * Spiking phase decreases in later part of place field (or here, in successive theta cycles)"
   ]
  },
  {
   "cell_type": "markdown",
   "metadata": {
    "slideshow": {
     "slide_type": "fragment"
    }
   },
   "source": [
    "\n",
    "#### But...\n",
    " \n",
    "#### Experimentally, spiking phase is more correlated with location within the place field rather than time or number of theta cycles passed since entering place field"
   ]
  },
  {
   "cell_type": "markdown",
   "metadata": {
    "slideshow": {
     "slide_type": "slide"
    }
   },
   "source": [
    "### Assignment:\n",
    "* Generate spikes for all cells\n",
    "* Calculate population activity from spike trains of all cells: Remember ML tutorial ?!\n",
    "* Find power in theta band for population activity. Where is the peak?\n",
    "* Plot phase of spikes for different cells versus time/cycle number.\n",
    "* Analyse firing rate and phase precession for different cells."
   ]
  },
  {
   "cell_type": "markdown",
   "metadata": {
    "collapsed": true,
    "slideshow": {
     "slide_type": "slide"
    }
   },
   "source": [
    "## Heterogenous population of place cells"
   ]
  },
  {
   "cell_type": "code",
   "execution_count": null,
   "metadata": {
    "collapsed": false,
    "slideshow": {
     "slide_type": "subslide"
    }
   },
   "outputs": [],
   "source": [
    "## Use same PF centres, but change widths, intrinsic frequency, compression factor, tau_n\n",
    "\n",
    "L = 1/(8.7)+3+rand(N)*5     # Place field size : Between 3.x and 8.x second, x=1/8.7\n",
    "                            # (Assuming constant running speed in forward direction)\n",
    "\n",
    "sigma = L/(3*sqrt(2))       # Sigma of gaussian envelope of PF\n",
    "f0 = 8.6 - 1/L #Hz          # Oscillation frequency of single neurons: Use diff distributions.\n",
    "                            # Here, dependent on L. (L and f0 co-vary across EC layers and dorsoventrally)\n",
    "c = 1/multiply(L,f0)        # Compression factor: L*c*f0 = 1\n",
    "taun = multiply(c,Tn)       #Theta -scale time lag    \n",
    "\n",
    "rates = zeros([N, len(t)], dtype=complex)\n",
    "#### Create place cell maps:\n",
    "for i in xrange(0,N):\n",
    "    rates[i][:] = SingleNeuronRateMap(t,f0=f0[i],tau_n=taun[i], T_n = Tn[i], sigma=sigma[i])\n",
    "    \n",
    "### Get population activity:\n",
    "poprate = np.sum(rates,0)*nfactor\n",
    "\n"
   ]
  },
  {
   "cell_type": "code",
   "execution_count": null,
   "metadata": {
    "collapsed": false,
    "slideshow": {
     "slide_type": "slide"
    }
   },
   "outputs": [],
   "source": [
    "fig7a=figure(figsize=(15,6))\n",
    "subplot(131)\n",
    "plot(range(N), L, 'ro')\n",
    "subplot(132)\n",
    "plot(f0,L,'bo')\n",
    "subplot(133)\n",
    "plot(multiply(L,f0),c,'go')"
   ]
  },
  {
   "cell_type": "code",
   "execution_count": null,
   "metadata": {
    "collapsed": false
   },
   "outputs": [],
   "source": [
    "#### Plotting rate maps for example cells\n",
    "num_of_maps = 8                         ### No. of example rate maps\n",
    "cells_to_plot = range(0, N, int(N/num_of_maps))\n",
    "colorbar = mc.MakeColourMap(N)\n",
    "\n",
    "fig1 = figure(figsize=(8,5))\n",
    "for idx in cells_to_plot:\n",
    "    line = abs(rates[idx][:])\n",
    "    colorVal = colorbar.to_rgba(idx)\n",
    "    plot(t, line, color=colorVal, linewidth=2.0)       #Add label if you want legend.\n",
    "\n",
    "ylabel('Discharge probability for individual place cells')\n",
    "xlabel('(Space or) Time (sec) with constant running speed')\n",
    "title('Rate maps for various place cells')"
   ]
  },
  {
   "cell_type": "code",
   "execution_count": null,
   "metadata": {
    "collapsed": false,
    "slideshow": {
     "slide_type": "subslide"
    }
   },
   "outputs": [],
   "source": [
    "### Plot poprate\n",
    "fig7b=figure()\n",
    "plot(t,abs(poprate))"
   ]
  },
  {
   "cell_type": "markdown",
   "metadata": {
    "slideshow": {
     "slide_type": "slide"
    }
   },
   "source": [
    "### Generating spikes to observe phase precession"
   ]
  },
  {
   "cell_type": "code",
   "execution_count": null,
   "metadata": {
    "collapsed": true,
    "slideshow": {
     "slide_type": "subslide"
    }
   },
   "outputs": [],
   "source": [
    "### Spiking cells:\n",
    "### Generate spikes. Plot phase versus \n",
    "\n",
    "maxFR = 20        #Hz ()Max instantaneous firing rate\n",
    "threshold = 0.25\n",
    "trials = 500\n",
    "spiketimes ={}\n",
    "TimePeriod = 1/LFP_Theta     #in sec\n",
    "\n",
    "spiking_cell = N/2\n",
    "for ii in range(trials):\n",
    "    spiketimes[ii] = spg.GenerateSpikeTimes(abs(rates[spiking_cell][:]), t, ns, delt, maxFR, threshold)\n",
    "\n",
    "## Raster plot\n",
    "## ???\n",
    "##\n",
    "\n",
    "### Setting x-limits\n",
    "xlow=max(t)\n",
    "xhigh=0\n",
    "\n",
    "##To trap for empty trials\n",
    "for ii in range(trials):\n",
    "    if len(spiketimes[ii])>0:\n",
    "        xlow=min(xlow, t[spiketimes[ii][0]])\n",
    "        xhigh=max(xhigh, t[spiketimes[ii][-1]])\n",
    "xlow=xlow-TimePeriod\n",
    "xhigh=xhigh+TimePeriod"
   ]
  },
  {
   "cell_type": "code",
   "execution_count": null,
   "metadata": {
    "collapsed": false,
    "slideshow": {
     "slide_type": "subslide"
    }
   },
   "outputs": [],
   "source": [
    "## Phase of spikes:\n",
    "## Find Pop troughs and peaks:\n",
    "trs =sg.argrelextrema(abs(poprate), np.less)\n",
    "pks =sg.argrelextrema(abs(poprate), np.greater)\n",
    "troughs =  t[trs]\n",
    "peaks = t[pks]\n",
    "\n",
    "cell_phase={}\n",
    "### Getting phase from population troughs:\n",
    "for ii in range(trials):\n",
    "    cell_phase[ii] = []\n",
    "    for jj in range(len(spiketimes[ii])):\n",
    "        tr_next=searchsorted(troughs, t[spiketimes[ii][jj]])\n",
    "        tr_prev=tr_next-1\n",
    "        cell_phase[ii].append( (t[spiketimes[ii][jj]] - troughs[tr_prev] )*360/(troughs[tr_next] -troughs[tr_prev]))\n",
    "        \n",
    "### Plotting phases if spikes\n",
    "colorVal=colorbar.to_rgba(spiking_cell)\n",
    "fig7=figure(figsize=(12,5))\n",
    "ax=fig7.add_subplot(111)\n",
    "for ii in range(trials):\n",
    "    plot(t[spiketimes[ii]], cell_phase[ii] , 'ro', color=colorVal)\n",
    "bar(troughs,[400 for jj in troughs], bottom=[-20 for jj in troughs], width=2*delt, color='k', label='Population Troughs')\n",
    "bar(peaks,height=[400 for jj in peaks], bottom=[-20 for jj in peaks], width=2*delt, color='r', edgecolor='r', label='Population Peaks')\n",
    "ax.grid()\n",
    "xlim([xlow,xhigh])\n",
    "ylim([-20,380])\n",
    "xlabel('Time (sec)')\n",
    "ylabel('Phase of population activity (degrees) for each spike')\n",
    "legend()"
   ]
  },
  {
   "cell_type": "code",
   "execution_count": null,
   "metadata": {
    "collapsed": true,
    "slideshow": {
     "slide_type": "slide"
    }
   },
   "outputs": [],
   "source": [
    "### Power spectrum of population activity"
   ]
  },
  {
   "cell_type": "code",
   "execution_count": null,
   "metadata": {
    "collapsed": false,
    "slideshow": {
     "slide_type": "subslide"
    }
   },
   "outputs": [],
   "source": [
    "### Power spectrum of rate maps: Population and example cell\n",
    "\n",
    "ns = len(poprate)\n",
    "pop_fft = fft(poprate)                                     # Population rate FFT\n",
    "cell_fft = fft(rates[0][:])                               # FFT for a single neuron rate map\n",
    "freq = np.arange(0.0,1.0/(2*delt),1.0/(2*delt)*2/ns)    # Frequency array (0 to fmax)   \n",
    "\n",
    "fig3=figure()\n",
    "A = fig3.add_subplot(111)\n",
    "A.plot(freq,2.0/ns*abs(pop_fft[0:ns/2])/N, color ='b' , linewidth = 2.0)\n",
    "B = A.twinx()             # Same x-axis, different scales on y-axis\n",
    "B.plot(freq,2.0/ns*abs(cell_fft[0:ns/2]), 'r-' , linewidth =2.0)\n",
    "A.set_xlim([0.05, 15])    # Plot upto freq = 15Hz\n",
    "A.set_ylabel('Population activity: Power', color='b' )\n",
    "A.set_xlabel('Frequency (Hz)')\n",
    "B.set_ylabel('Individual cell activity: Power', color ='r')"
   ]
  },
  {
   "cell_type": "code",
   "execution_count": null,
   "metadata": {
    "collapsed": false,
    "slideshow": {
     "slide_type": "subslide"
    }
   },
   "outputs": [],
   "source": [
    "### Protocol for finding frequency with peak power:\n",
    "### Finding local peaks ( and above threshold = 20% Peak power)\n",
    "### pk.indexes returns the \"indices\" of the local peaks\n",
    "LFP_freq = pk.indexes(abs(pop_fft[0:ns/2]), thres=0.15)          #Indices of local maximas in power spectrum of poprate\n",
    "Intrinsic_freq = pk.indexes(abs(cell_fft[0:ns/2]), thres=0.15)   #Indices of local maximas in power spectrum of cell rates\n",
    "\n",
    "\n",
    "### What is the frequency (in theta band) at which single neuron or population activity is modulated? \n",
    "### Theta band used: 4-12 Hz\n",
    "\n",
    "## LFP\n",
    "LFP_Theta = ct.CheckThetaFreq( LFP_freq, freq )\n",
    "if LFP_Theta>12:\n",
    "    print 'No Peak in Theta Band for population activity'\n",
    "else:\n",
    "    print 'Population rate is modulated at frequency', LFP_Theta, 'Hz'\n",
    "    \n",
    "## Individual cells\n",
    "Intrinsic_Theta = ct.CheckThetaFreq( Intrinsic_freq, freq )\n",
    "if Intrinsic_Theta < 12:\n",
    "    print 'Individual cell firing rate is modulated at frequency', Intrinsic_Theta, 'Hz'\n",
    "else:\n",
    "    print 'No Peak in Theta Band for individual cell activity'"
   ]
  },
  {
   "cell_type": "markdown",
   "metadata": {
    "slideshow": {
     "slide_type": "slide"
    }
   },
   "source": [
    "### Assignment: Find power spectrum and frequency of modulation for each cell. Compare against set parameter f0."
   ]
  }
 ],
 "metadata": {
  "celltoolbar": "Slideshow",
  "kernelspec": {
   "display_name": "Python 2",
   "language": "python",
   "name": "python2"
  },
  "language_info": {
   "codemirror_mode": {
    "name": "ipython",
    "version": 2
   },
   "file_extension": ".py",
   "mimetype": "text/x-python",
   "name": "python",
   "nbconvert_exporter": "python",
   "pygments_lexer": "ipython2",
   "version": "2.7.11"
  }
 },
 "nbformat": 4,
 "nbformat_minor": 0
}
